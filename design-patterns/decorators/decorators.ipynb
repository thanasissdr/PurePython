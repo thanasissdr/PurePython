{
 "cells": [
  {
   "cell_type": "code",
   "execution_count": 62,
   "id": "e9421088",
   "metadata": {},
   "outputs": [
    {
     "name": "stdout",
     "output_type": "stream",
     "text": [
      "The nb_black extension is already loaded. To reload it, use:\n",
      "  %reload_ext nb_black\n"
     ]
    },
    {
     "data": {
      "application/javascript": "\n            setTimeout(function() {\n                var nbb_cell_id = 62;\n                var nbb_unformatted_code = \"%load_ext nb_black\";\n                var nbb_formatted_code = \"%load_ext nb_black\";\n                var nbb_cells = Jupyter.notebook.get_cells();\n                for (var i = 0; i < nbb_cells.length; ++i) {\n                    if (nbb_cells[i].input_prompt_number == nbb_cell_id) {\n                        if (nbb_cells[i].get_text() == nbb_unformatted_code) {\n                             nbb_cells[i].set_text(nbb_formatted_code);\n                        }\n                        break;\n                    }\n                }\n            }, 500);\n            ",
      "text/plain": [
       "<IPython.core.display.Javascript object>"
      ]
     },
     "metadata": {},
     "output_type": "display_data"
    }
   ],
   "source": [
    "%load_ext nb_black"
   ]
  },
  {
   "cell_type": "code",
   "execution_count": 63,
   "id": "1fb79f6e",
   "metadata": {
    "slideshow": {
     "slide_type": "skip"
    }
   },
   "outputs": [
    {
     "data": {
      "application/javascript": "\n            setTimeout(function() {\n                var nbb_cell_id = 63;\n                var nbb_unformatted_code = \"import datetime as dt\\nimport functools\\nimport time\\n\\n\\nfrom abc import abstractmethod, ABC\\nfrom dateutil import relativedelta\\nfrom typing import Any, List, Dict, Optional\";\n                var nbb_formatted_code = \"import datetime as dt\\nimport functools\\nimport time\\n\\n\\nfrom abc import abstractmethod, ABC\\nfrom dateutil import relativedelta\\nfrom typing import Any, List, Dict, Optional\";\n                var nbb_cells = Jupyter.notebook.get_cells();\n                for (var i = 0; i < nbb_cells.length; ++i) {\n                    if (nbb_cells[i].input_prompt_number == nbb_cell_id) {\n                        if (nbb_cells[i].get_text() == nbb_unformatted_code) {\n                             nbb_cells[i].set_text(nbb_formatted_code);\n                        }\n                        break;\n                    }\n                }\n            }, 500);\n            ",
      "text/plain": [
       "<IPython.core.display.Javascript object>"
      ]
     },
     "metadata": {},
     "output_type": "display_data"
    }
   ],
   "source": [
    "import datetime as dt\n",
    "import functools\n",
    "import time\n",
    "\n",
    "\n",
    "from abc import abstractmethod, ABC\n",
    "from dateutil import relativedelta\n",
    "from typing import Any, List, Dict, Optional"
   ]
  },
  {
   "cell_type": "code",
   "execution_count": 64,
   "id": "0ad68c3e",
   "metadata": {
    "slideshow": {
     "slide_type": "skip"
    }
   },
   "outputs": [
    {
     "data": {
      "application/javascript": "\n            setTimeout(function() {\n                var nbb_cell_id = 64;\n                var nbb_unformatted_code = \"import pandas as pd\";\n                var nbb_formatted_code = \"import pandas as pd\";\n                var nbb_cells = Jupyter.notebook.get_cells();\n                for (var i = 0; i < nbb_cells.length; ++i) {\n                    if (nbb_cells[i].input_prompt_number == nbb_cell_id) {\n                        if (nbb_cells[i].get_text() == nbb_unformatted_code) {\n                             nbb_cells[i].set_text(nbb_formatted_code);\n                        }\n                        break;\n                    }\n                }\n            }, 500);\n            ",
      "text/plain": [
       "<IPython.core.display.Javascript object>"
      ]
     },
     "metadata": {},
     "output_type": "display_data"
    }
   ],
   "source": [
    "import pandas as pd"
   ]
  },
  {
   "cell_type": "markdown",
   "id": "9b287f51",
   "metadata": {
    "slideshow": {
     "slide_type": "slide"
    }
   },
   "source": [
    "# Design patterns\n",
    "\n",
    "##  <font color='green'> Introduction to  decorators </font>"
   ]
  },
  {
   "cell_type": "code",
   "execution_count": 65,
   "id": "505f848b",
   "metadata": {
    "slideshow": {
     "slide_type": "slide"
    }
   },
   "outputs": [
    {
     "name": "stdout",
     "output_type": "stream",
     "text": [
      "16\n",
      "125\n"
     ]
    },
    {
     "data": {
      "application/javascript": "\n            setTimeout(function() {\n                var nbb_cell_id = 65;\n                var nbb_unformatted_code = \"def square(x: float) -> float:\\n    return x**2\\n\\n\\ndef cube(x: float) -> float:\\n    return x**3\\n\\n\\ndef fourth_power(x: float) -> float:\\n    return x**4\\n\\n\\nprint(square(4))\\nprint(cube(5))\";\n                var nbb_formatted_code = \"def square(x: float) -> float:\\n    return x**2\\n\\n\\ndef cube(x: float) -> float:\\n    return x**3\\n\\n\\ndef fourth_power(x: float) -> float:\\n    return x**4\\n\\n\\nprint(square(4))\\nprint(cube(5))\";\n                var nbb_cells = Jupyter.notebook.get_cells();\n                for (var i = 0; i < nbb_cells.length; ++i) {\n                    if (nbb_cells[i].input_prompt_number == nbb_cell_id) {\n                        if (nbb_cells[i].get_text() == nbb_unformatted_code) {\n                             nbb_cells[i].set_text(nbb_formatted_code);\n                        }\n                        break;\n                    }\n                }\n            }, 500);\n            ",
      "text/plain": [
       "<IPython.core.display.Javascript object>"
      ]
     },
     "metadata": {},
     "output_type": "display_data"
    }
   ],
   "source": [
    "def square(x: float) -> float:\n",
    "    return x**2\n",
    "\n",
    "\n",
    "def cube(x: float) -> float:\n",
    "    return x**3\n",
    "\n",
    "\n",
    "def fourth_power(x: float) -> float:\n",
    "    return x**4\n",
    "\n",
    "\n",
    "print(square(4))\n",
    "print(cube(5))"
   ]
  },
  {
   "cell_type": "code",
   "execution_count": 66,
   "id": "88d3f7f4",
   "metadata": {
    "slideshow": {
     "slide_type": "subslide"
    }
   },
   "outputs": [
    {
     "data": {
      "text/plain": [
       "8"
      ]
     },
     "execution_count": 66,
     "metadata": {},
     "output_type": "execute_result"
    },
    {
     "data": {
      "application/javascript": "\n            setTimeout(function() {\n                var nbb_cell_id = 66;\n                var nbb_unformatted_code = \"def power(x: float, n: int) -> float:\\n    return x**n\\n\\n\\npower(2, 3)\";\n                var nbb_formatted_code = \"def power(x: float, n: int) -> float:\\n    return x**n\\n\\n\\npower(2, 3)\";\n                var nbb_cells = Jupyter.notebook.get_cells();\n                for (var i = 0; i < nbb_cells.length; ++i) {\n                    if (nbb_cells[i].input_prompt_number == nbb_cell_id) {\n                        if (nbb_cells[i].get_text() == nbb_unformatted_code) {\n                             nbb_cells[i].set_text(nbb_formatted_code);\n                        }\n                        break;\n                    }\n                }\n            }, 500);\n            ",
      "text/plain": [
       "<IPython.core.display.Javascript object>"
      ]
     },
     "metadata": {},
     "output_type": "display_data"
    }
   ],
   "source": [
    "def power(x: float, n: int) -> float:\n",
    "    return x**n\n",
    "\n",
    "\n",
    "power(2, 3)"
   ]
  },
  {
   "cell_type": "code",
   "execution_count": 67,
   "id": "81d35d0a",
   "metadata": {
    "scrolled": true,
    "slideshow": {
     "slide_type": "fragment"
    }
   },
   "outputs": [
    {
     "data": {
      "application/javascript": "\n            setTimeout(function() {\n                var nbb_cell_id = 67;\n                var nbb_unformatted_code = \"# square = power(x, 2)\\n\\n# square = power(x, 2)\\n# square(5)\";\n                var nbb_formatted_code = \"# square = power(x, 2)\\n\\n# square = power(x, 2)\\n# square(5)\";\n                var nbb_cells = Jupyter.notebook.get_cells();\n                for (var i = 0; i < nbb_cells.length; ++i) {\n                    if (nbb_cells[i].input_prompt_number == nbb_cell_id) {\n                        if (nbb_cells[i].get_text() == nbb_unformatted_code) {\n                             nbb_cells[i].set_text(nbb_formatted_code);\n                        }\n                        break;\n                    }\n                }\n            }, 500);\n            ",
      "text/plain": [
       "<IPython.core.display.Javascript object>"
      ]
     },
     "metadata": {},
     "output_type": "display_data"
    }
   ],
   "source": [
    "# square = power(x, 2)\n",
    "\n",
    "# square = power(x, 2)\n",
    "# square(5)"
   ]
  },
  {
   "cell_type": "code",
   "execution_count": 68,
   "id": "d82a129d",
   "metadata": {
    "slideshow": {
     "slide_type": "subslide"
    }
   },
   "outputs": [
    {
     "data": {
      "text/plain": [
       "<function __main__.power(n: int)>"
      ]
     },
     "metadata": {},
     "output_type": "display_data"
    },
    {
     "data": {
      "application/javascript": "\n            setTimeout(function() {\n                var nbb_cell_id = 68;\n                var nbb_unformatted_code = \"# Common function and call this function to create square / cube\\n\\n\\ndef power(n: int):\\n    def inner(x: float):\\n        return x**n\\n\\n    return inner\\n\\n\\ndisplay(power)  # power is a function of n\";\n                var nbb_formatted_code = \"# Common function and call this function to create square / cube\\n\\n\\ndef power(n: int):\\n    def inner(x: float):\\n        return x**n\\n\\n    return inner\\n\\n\\ndisplay(power)  # power is a function of n\";\n                var nbb_cells = Jupyter.notebook.get_cells();\n                for (var i = 0; i < nbb_cells.length; ++i) {\n                    if (nbb_cells[i].input_prompt_number == nbb_cell_id) {\n                        if (nbb_cells[i].get_text() == nbb_unformatted_code) {\n                             nbb_cells[i].set_text(nbb_formatted_code);\n                        }\n                        break;\n                    }\n                }\n            }, 500);\n            ",
      "text/plain": [
       "<IPython.core.display.Javascript object>"
      ]
     },
     "metadata": {},
     "output_type": "display_data"
    }
   ],
   "source": [
    "# Common function and call this function to create square / cube\n",
    "\n",
    "\n",
    "def power(n: int):\n",
    "    def inner(x: float):\n",
    "        return x**n\n",
    "\n",
    "    return inner\n",
    "\n",
    "\n",
    "display(power)  # power is a function of n"
   ]
  },
  {
   "cell_type": "code",
   "execution_count": 69,
   "id": "7271b845",
   "metadata": {
    "slideshow": {
     "slide_type": "fragment"
    }
   },
   "outputs": [
    {
     "data": {
      "text/plain": [
       "<function __main__.power.<locals>.inner(x: float)>"
      ]
     },
     "execution_count": 69,
     "metadata": {},
     "output_type": "execute_result"
    },
    {
     "data": {
      "application/javascript": "\n            setTimeout(function() {\n                var nbb_cell_id = 69;\n                var nbb_unformatted_code = \"power(2)\";\n                var nbb_formatted_code = \"power(2)\";\n                var nbb_cells = Jupyter.notebook.get_cells();\n                for (var i = 0; i < nbb_cells.length; ++i) {\n                    if (nbb_cells[i].input_prompt_number == nbb_cell_id) {\n                        if (nbb_cells[i].get_text() == nbb_unformatted_code) {\n                             nbb_cells[i].set_text(nbb_formatted_code);\n                        }\n                        break;\n                    }\n                }\n            }, 500);\n            ",
      "text/plain": [
       "<IPython.core.display.Javascript object>"
      ]
     },
     "metadata": {},
     "output_type": "display_data"
    }
   ],
   "source": [
    "power(2)"
   ]
  },
  {
   "cell_type": "code",
   "execution_count": 70,
   "id": "ea66cbb5",
   "metadata": {
    "slideshow": {
     "slide_type": "fragment"
    }
   },
   "outputs": [
    {
     "data": {
      "text/plain": [
       "<function __main__.power.<locals>.inner(x: float)>"
      ]
     },
     "metadata": {},
     "output_type": "display_data"
    },
    {
     "data": {
      "application/javascript": "\n            setTimeout(function() {\n                var nbb_cell_id = 70;\n                var nbb_unformatted_code = \"square = power(2)\\ndisplay(square)\";\n                var nbb_formatted_code = \"square = power(2)\\ndisplay(square)\";\n                var nbb_cells = Jupyter.notebook.get_cells();\n                for (var i = 0; i < nbb_cells.length; ++i) {\n                    if (nbb_cells[i].input_prompt_number == nbb_cell_id) {\n                        if (nbb_cells[i].get_text() == nbb_unformatted_code) {\n                             nbb_cells[i].set_text(nbb_formatted_code);\n                        }\n                        break;\n                    }\n                }\n            }, 500);\n            ",
      "text/plain": [
       "<IPython.core.display.Javascript object>"
      ]
     },
     "metadata": {},
     "output_type": "display_data"
    }
   ],
   "source": [
    "square = power(2)\n",
    "display(square)"
   ]
  },
  {
   "cell_type": "code",
   "execution_count": 71,
   "id": "92ab6e3c",
   "metadata": {
    "slideshow": {
     "slide_type": "subslide"
    }
   },
   "outputs": [
    {
     "name": "stdout",
     "output_type": "stream",
     "text": [
      "9\n"
     ]
    },
    {
     "data": {
      "application/javascript": "\n            setTimeout(function() {\n                var nbb_cell_id = 71;\n                var nbb_unformatted_code = \"print(square(-3))\";\n                var nbb_formatted_code = \"print(square(-3))\";\n                var nbb_cells = Jupyter.notebook.get_cells();\n                for (var i = 0; i < nbb_cells.length; ++i) {\n                    if (nbb_cells[i].input_prompt_number == nbb_cell_id) {\n                        if (nbb_cells[i].get_text() == nbb_unformatted_code) {\n                             nbb_cells[i].set_text(nbb_formatted_code);\n                        }\n                        break;\n                    }\n                }\n            }, 500);\n            ",
      "text/plain": [
       "<IPython.core.display.Javascript object>"
      ]
     },
     "metadata": {},
     "output_type": "display_data"
    }
   ],
   "source": [
    "print(square(-3))"
   ]
  },
  {
   "cell_type": "code",
   "execution_count": 72,
   "id": "f755fcce",
   "metadata": {
    "slideshow": {
     "slide_type": "fragment"
    }
   },
   "outputs": [
    {
     "data": {
      "text/plain": [
       "27"
      ]
     },
     "execution_count": 72,
     "metadata": {},
     "output_type": "execute_result"
    },
    {
     "data": {
      "application/javascript": "\n            setTimeout(function() {\n                var nbb_cell_id = 72;\n                var nbb_unformatted_code = \"cube = power(3)\\ncube(3)\";\n                var nbb_formatted_code = \"cube = power(3)\\ncube(3)\";\n                var nbb_cells = Jupyter.notebook.get_cells();\n                for (var i = 0; i < nbb_cells.length; ++i) {\n                    if (nbb_cells[i].input_prompt_number == nbb_cell_id) {\n                        if (nbb_cells[i].get_text() == nbb_unformatted_code) {\n                             nbb_cells[i].set_text(nbb_formatted_code);\n                        }\n                        break;\n                    }\n                }\n            }, 500);\n            ",
      "text/plain": [
       "<IPython.core.display.Javascript object>"
      ]
     },
     "metadata": {},
     "output_type": "display_data"
    }
   ],
   "source": [
    "cube = power(3)\n",
    "cube(3)"
   ]
  },
  {
   "cell_type": "markdown",
   "id": "f66ef070",
   "metadata": {
    "slideshow": {
     "slide_type": "slide"
    }
   },
   "source": [
    "# First class functions language"
   ]
  },
  {
   "cell_type": "code",
   "execution_count": 73,
   "id": "d0586e34",
   "metadata": {
    "slideshow": {
     "slide_type": "fragment"
    }
   },
   "outputs": [
    {
     "data": {
      "text/plain": [
       "<function __main__.double(f)>"
      ]
     },
     "metadata": {},
     "output_type": "display_data"
    },
    {
     "data": {
      "application/javascript": "\n            setTimeout(function() {\n                var nbb_cell_id = 73;\n                var nbb_unformatted_code = \"# First class functions language: when functions in that language are treated like any other variable, i.e. we can pass\\n# a function as an argument in some other function, etc.\\n\\n# TO COMPLETE double function\\ndef double(f):\\n    def inner(a: float, b: float) -> float:\\n        return f(a, b) * 2\\n\\n    return inner\\n\\n\\ndisplay(double)  # is a function of f\";\n                var nbb_formatted_code = \"# First class functions language: when functions in that language are treated like any other variable, i.e. we can pass\\n# a function as an argument in some other function, etc.\\n\\n# TO COMPLETE double function\\ndef double(f):\\n    def inner(a: float, b: float) -> float:\\n        return f(a, b) * 2\\n\\n    return inner\\n\\n\\ndisplay(double)  # is a function of f\";\n                var nbb_cells = Jupyter.notebook.get_cells();\n                for (var i = 0; i < nbb_cells.length; ++i) {\n                    if (nbb_cells[i].input_prompt_number == nbb_cell_id) {\n                        if (nbb_cells[i].get_text() == nbb_unformatted_code) {\n                             nbb_cells[i].set_text(nbb_formatted_code);\n                        }\n                        break;\n                    }\n                }\n            }, 500);\n            ",
      "text/plain": [
       "<IPython.core.display.Javascript object>"
      ]
     },
     "metadata": {},
     "output_type": "display_data"
    }
   ],
   "source": [
    "# First class functions language: when functions in that language are treated like any other variable, i.e. we can pass\n",
    "# a function as an argument in some other function, etc.\n",
    "\n",
    "# TO COMPLETE double function\n",
    "def double(f):\n",
    "    def inner(a: float, b: float) -> float:\n",
    "        return f(a, b) * 2\n",
    "\n",
    "    return inner\n",
    "\n",
    "\n",
    "display(double)  # is a function of f"
   ]
  },
  {
   "cell_type": "code",
   "execution_count": 74,
   "id": "bf48c102",
   "metadata": {
    "slideshow": {
     "slide_type": "slide"
    }
   },
   "outputs": [
    {
     "data": {
      "application/javascript": "\n            setTimeout(function() {\n                var nbb_cell_id = 74;\n                var nbb_unformatted_code = \"def add(a: float, b: float) -> float:\\n    return a + b\\n\\n\\ndef subtract(a: float, b: float) -> float:\\n    return a - b\\n\\n\\ndef multiply(a: float, b: float) -> float:\\n    return a * b\\n\\n\\ndef divide(a: float, b: float) -> float:\\n    return a / b\";\n                var nbb_formatted_code = \"def add(a: float, b: float) -> float:\\n    return a + b\\n\\n\\ndef subtract(a: float, b: float) -> float:\\n    return a - b\\n\\n\\ndef multiply(a: float, b: float) -> float:\\n    return a * b\\n\\n\\ndef divide(a: float, b: float) -> float:\\n    return a / b\";\n                var nbb_cells = Jupyter.notebook.get_cells();\n                for (var i = 0; i < nbb_cells.length; ++i) {\n                    if (nbb_cells[i].input_prompt_number == nbb_cell_id) {\n                        if (nbb_cells[i].get_text() == nbb_unformatted_code) {\n                             nbb_cells[i].set_text(nbb_formatted_code);\n                        }\n                        break;\n                    }\n                }\n            }, 500);\n            ",
      "text/plain": [
       "<IPython.core.display.Javascript object>"
      ]
     },
     "metadata": {},
     "output_type": "display_data"
    }
   ],
   "source": [
    "def add(a: float, b: float) -> float:\n",
    "    return a + b\n",
    "\n",
    "\n",
    "def subtract(a: float, b: float) -> float:\n",
    "    return a - b\n",
    "\n",
    "\n",
    "def multiply(a: float, b: float) -> float:\n",
    "    return a * b\n",
    "\n",
    "\n",
    "def divide(a: float, b: float) -> float:\n",
    "    return a / b"
   ]
  },
  {
   "cell_type": "code",
   "execution_count": 75,
   "id": "b9fab0ff",
   "metadata": {
    "slideshow": {
     "slide_type": "subslide"
    }
   },
   "outputs": [
    {
     "data": {
      "text/plain": [
       "<function __main__.double.<locals>.inner(a: float, b: float) -> float>"
      ]
     },
     "execution_count": 75,
     "metadata": {},
     "output_type": "execute_result"
    },
    {
     "data": {
      "application/javascript": "\n            setTimeout(function() {\n                var nbb_cell_id = 75;\n                var nbb_unformatted_code = \"double(add)  #  is a function of (a, b)\";\n                var nbb_formatted_code = \"double(add)  #  is a function of (a, b)\";\n                var nbb_cells = Jupyter.notebook.get_cells();\n                for (var i = 0; i < nbb_cells.length; ++i) {\n                    if (nbb_cells[i].input_prompt_number == nbb_cell_id) {\n                        if (nbb_cells[i].get_text() == nbb_unformatted_code) {\n                             nbb_cells[i].set_text(nbb_formatted_code);\n                        }\n                        break;\n                    }\n                }\n            }, 500);\n            ",
      "text/plain": [
       "<IPython.core.display.Javascript object>"
      ]
     },
     "metadata": {},
     "output_type": "display_data"
    }
   ],
   "source": [
    "double(add)  #  is a function of (a, b)"
   ]
  },
  {
   "cell_type": "markdown",
   "id": "41717d13",
   "metadata": {
    "slideshow": {
     "slide_type": "fragment"
    }
   },
   "source": [
    "Composition of functions:\n",
    "$$ f(x, y) = x + y $$\n",
    "\n",
    "$$ g(x) = 2 \\cdot x $$\n",
    "\n",
    "So, basically `double(add)` is this composition: $ g(f(x, y)) = (g\\circ f)(x, y)$"
   ]
  },
  {
   "cell_type": "code",
   "execution_count": 76,
   "id": "6642aabc",
   "metadata": {
    "slideshow": {
     "slide_type": "fragment"
    }
   },
   "outputs": [
    {
     "data": {
      "text/plain": [
       "<function __main__.double.<locals>.inner(a: float, b: float) -> float>"
      ]
     },
     "execution_count": 76,
     "metadata": {},
     "output_type": "execute_result"
    },
    {
     "data": {
      "application/javascript": "\n            setTimeout(function() {\n                var nbb_cell_id = 76;\n                var nbb_unformatted_code = \"doubled_addition = double(add)\\ndoubled_addition\";\n                var nbb_formatted_code = \"doubled_addition = double(add)\\ndoubled_addition\";\n                var nbb_cells = Jupyter.notebook.get_cells();\n                for (var i = 0; i < nbb_cells.length; ++i) {\n                    if (nbb_cells[i].input_prompt_number == nbb_cell_id) {\n                        if (nbb_cells[i].get_text() == nbb_unformatted_code) {\n                             nbb_cells[i].set_text(nbb_formatted_code);\n                        }\n                        break;\n                    }\n                }\n            }, 500);\n            ",
      "text/plain": [
       "<IPython.core.display.Javascript object>"
      ]
     },
     "metadata": {},
     "output_type": "display_data"
    }
   ],
   "source": [
    "doubled_addition = double(add)\n",
    "doubled_addition"
   ]
  },
  {
   "cell_type": "code",
   "execution_count": 77,
   "id": "63f31bfb",
   "metadata": {
    "slideshow": {
     "slide_type": "fragment"
    }
   },
   "outputs": [
    {
     "data": {
      "application/javascript": "\n            setTimeout(function() {\n                var nbb_cell_id = 77;\n                var nbb_unformatted_code = \"doubled_addition = double(add)\\ndoubled_subtraction = double(subtract)\\ndoubled_multiplication = double(multiply)\\ndoubled_division = double(divide)\";\n                var nbb_formatted_code = \"doubled_addition = double(add)\\ndoubled_subtraction = double(subtract)\\ndoubled_multiplication = double(multiply)\\ndoubled_division = double(divide)\";\n                var nbb_cells = Jupyter.notebook.get_cells();\n                for (var i = 0; i < nbb_cells.length; ++i) {\n                    if (nbb_cells[i].input_prompt_number == nbb_cell_id) {\n                        if (nbb_cells[i].get_text() == nbb_unformatted_code) {\n                             nbb_cells[i].set_text(nbb_formatted_code);\n                        }\n                        break;\n                    }\n                }\n            }, 500);\n            ",
      "text/plain": [
       "<IPython.core.display.Javascript object>"
      ]
     },
     "metadata": {},
     "output_type": "display_data"
    }
   ],
   "source": [
    "doubled_addition = double(add)\n",
    "doubled_subtraction = double(subtract)\n",
    "doubled_multiplication = double(multiply)\n",
    "doubled_division = double(divide)"
   ]
  },
  {
   "cell_type": "code",
   "execution_count": 78,
   "id": "2ec7a7d7",
   "metadata": {
    "slideshow": {
     "slide_type": "subslide"
    }
   },
   "outputs": [
    {
     "name": "stdout",
     "output_type": "stream",
     "text": [
      "32\n"
     ]
    },
    {
     "data": {
      "application/javascript": "\n            setTimeout(function() {\n                var nbb_cell_id = 78;\n                var nbb_unformatted_code = \"print(doubled_addition(6, 10))\\n\\n# 6 + 10 = 16\\n# 16 * 2 = 32\";\n                var nbb_formatted_code = \"print(doubled_addition(6, 10))\\n\\n# 6 + 10 = 16\\n# 16 * 2 = 32\";\n                var nbb_cells = Jupyter.notebook.get_cells();\n                for (var i = 0; i < nbb_cells.length; ++i) {\n                    if (nbb_cells[i].input_prompt_number == nbb_cell_id) {\n                        if (nbb_cells[i].get_text() == nbb_unformatted_code) {\n                             nbb_cells[i].set_text(nbb_formatted_code);\n                        }\n                        break;\n                    }\n                }\n            }, 500);\n            ",
      "text/plain": [
       "<IPython.core.display.Javascript object>"
      ]
     },
     "metadata": {},
     "output_type": "display_data"
    }
   ],
   "source": [
    "print(doubled_addition(6, 10))\n",
    "\n",
    "# 6 + 10 = 16\n",
    "# 16 * 2 = 32"
   ]
  },
  {
   "cell_type": "code",
   "execution_count": 79,
   "id": "ddc0dd9f",
   "metadata": {
    "slideshow": {
     "slide_type": "fragment"
    }
   },
   "outputs": [
    {
     "data": {
      "text/plain": [
       "32"
      ]
     },
     "execution_count": 79,
     "metadata": {},
     "output_type": "execute_result"
    },
    {
     "data": {
      "application/javascript": "\n            setTimeout(function() {\n                var nbb_cell_id = 79;\n                var nbb_unformatted_code = \"double(add)(6, 10)\";\n                var nbb_formatted_code = \"double(add)(6, 10)\";\n                var nbb_cells = Jupyter.notebook.get_cells();\n                for (var i = 0; i < nbb_cells.length; ++i) {\n                    if (nbb_cells[i].input_prompt_number == nbb_cell_id) {\n                        if (nbb_cells[i].get_text() == nbb_unformatted_code) {\n                             nbb_cells[i].set_text(nbb_formatted_code);\n                        }\n                        break;\n                    }\n                }\n            }, 500);\n            ",
      "text/plain": [
       "<IPython.core.display.Javascript object>"
      ]
     },
     "metadata": {},
     "output_type": "display_data"
    }
   ],
   "source": [
    "double(add)(6, 10)"
   ]
  },
  {
   "cell_type": "code",
   "execution_count": 80,
   "id": "314d899c",
   "metadata": {
    "scrolled": true,
    "slideshow": {
     "slide_type": "fragment"
    }
   },
   "outputs": [
    {
     "data": {
      "text/plain": [
       "1.2"
      ]
     },
     "execution_count": 80,
     "metadata": {},
     "output_type": "execute_result"
    },
    {
     "data": {
      "application/javascript": "\n            setTimeout(function() {\n                var nbb_cell_id = 80;\n                var nbb_unformatted_code = \"doubled_division(6, 10)\\n# 6 / 10 = 0.6\\n# 0.6 * 2 = 1.2\";\n                var nbb_formatted_code = \"doubled_division(6, 10)\\n# 6 / 10 = 0.6\\n# 0.6 * 2 = 1.2\";\n                var nbb_cells = Jupyter.notebook.get_cells();\n                for (var i = 0; i < nbb_cells.length; ++i) {\n                    if (nbb_cells[i].input_prompt_number == nbb_cell_id) {\n                        if (nbb_cells[i].get_text() == nbb_unformatted_code) {\n                             nbb_cells[i].set_text(nbb_formatted_code);\n                        }\n                        break;\n                    }\n                }\n            }, 500);\n            ",
      "text/plain": [
       "<IPython.core.display.Javascript object>"
      ]
     },
     "metadata": {},
     "output_type": "display_data"
    }
   ],
   "source": [
    "doubled_division(6, 10)\n",
    "# 6 / 10 = 0.6\n",
    "# 0.6 * 2 = 1.2"
   ]
  },
  {
   "cell_type": "markdown",
   "id": "6bfc9235",
   "metadata": {
    "slideshow": {
     "slide_type": "slide"
    }
   },
   "source": [
    "## Decorators"
   ]
  },
  {
   "cell_type": "code",
   "execution_count": 81,
   "id": "6ae5279c",
   "metadata": {
    "slideshow": {
     "slide_type": "fragment"
    }
   },
   "outputs": [
    {
     "data": {
      "application/javascript": "\n            setTimeout(function() {\n                var nbb_cell_id = 81;\n                var nbb_unformatted_code = \"def double(f):\\n    def inner(a: float, b: float) -> float:\\n        return f(a, b) * 2\\n\\n    return inner\";\n                var nbb_formatted_code = \"def double(f):\\n    def inner(a: float, b: float) -> float:\\n        return f(a, b) * 2\\n\\n    return inner\";\n                var nbb_cells = Jupyter.notebook.get_cells();\n                for (var i = 0; i < nbb_cells.length; ++i) {\n                    if (nbb_cells[i].input_prompt_number == nbb_cell_id) {\n                        if (nbb_cells[i].get_text() == nbb_unformatted_code) {\n                             nbb_cells[i].set_text(nbb_formatted_code);\n                        }\n                        break;\n                    }\n                }\n            }, 500);\n            ",
      "text/plain": [
       "<IPython.core.display.Javascript object>"
      ]
     },
     "metadata": {},
     "output_type": "display_data"
    }
   ],
   "source": [
    "def double(f):\n",
    "    def inner(a: float, b: float) -> float:\n",
    "        return f(a, b) * 2\n",
    "\n",
    "    return inner"
   ]
  },
  {
   "cell_type": "code",
   "execution_count": 82,
   "id": "ace11c4d",
   "metadata": {},
   "outputs": [
    {
     "data": {
      "text/plain": [
       "<function __main__.double.<locals>.inner(a: float, b: float) -> float>"
      ]
     },
     "execution_count": 82,
     "metadata": {},
     "output_type": "execute_result"
    },
    {
     "data": {
      "application/javascript": "\n            setTimeout(function() {\n                var nbb_cell_id = 82;\n                var nbb_unformatted_code = \"double(add)\";\n                var nbb_formatted_code = \"double(add)\";\n                var nbb_cells = Jupyter.notebook.get_cells();\n                for (var i = 0; i < nbb_cells.length; ++i) {\n                    if (nbb_cells[i].input_prompt_number == nbb_cell_id) {\n                        if (nbb_cells[i].get_text() == nbb_unformatted_code) {\n                             nbb_cells[i].set_text(nbb_formatted_code);\n                        }\n                        break;\n                    }\n                }\n            }, 500);\n            ",
      "text/plain": [
       "<IPython.core.display.Javascript object>"
      ]
     },
     "metadata": {},
     "output_type": "display_data"
    }
   ],
   "source": [
    "double(add)"
   ]
  },
  {
   "cell_type": "code",
   "execution_count": 83,
   "id": "5b999fca",
   "metadata": {
    "slideshow": {
     "slide_type": "fragment"
    }
   },
   "outputs": [
    {
     "data": {
      "text/plain": [
       "<function __main__.double.<locals>.inner(a: float, b: float) -> float>"
      ]
     },
     "metadata": {},
     "output_type": "display_data"
    },
    {
     "data": {
      "text/plain": [
       "60"
      ]
     },
     "execution_count": 83,
     "metadata": {},
     "output_type": "execute_result"
    },
    {
     "data": {
      "application/javascript": "\n            setTimeout(function() {\n                var nbb_cell_id = 83;\n                var nbb_unformatted_code = \"@double\\ndef decorated_addition(a, b):\\n    return a + b\\n\\n\\ndisplay(decorated_addition)\\n\\ndecorated_addition(10, 20)\\n# decorated_addition('a','b')\";\n                var nbb_formatted_code = \"@double\\ndef decorated_addition(a, b):\\n    return a + b\\n\\n\\ndisplay(decorated_addition)\\n\\ndecorated_addition(10, 20)\\n# decorated_addition('a','b')\";\n                var nbb_cells = Jupyter.notebook.get_cells();\n                for (var i = 0; i < nbb_cells.length; ++i) {\n                    if (nbb_cells[i].input_prompt_number == nbb_cell_id) {\n                        if (nbb_cells[i].get_text() == nbb_unformatted_code) {\n                             nbb_cells[i].set_text(nbb_formatted_code);\n                        }\n                        break;\n                    }\n                }\n            }, 500);\n            ",
      "text/plain": [
       "<IPython.core.display.Javascript object>"
      ]
     },
     "metadata": {},
     "output_type": "display_data"
    }
   ],
   "source": [
    "@double\n",
    "def decorated_addition(a, b):\n",
    "    return a + b\n",
    "\n",
    "\n",
    "display(decorated_addition)\n",
    "\n",
    "decorated_addition(10, 20)\n",
    "# decorated_addition('a','b')"
   ]
  },
  {
   "cell_type": "markdown",
   "id": "a614922b",
   "metadata": {
    "slideshow": {
     "slide_type": "subslide"
    }
   },
   "source": [
    "## HTML application\n",
    "\n",
    " <em> italics </em> $\\Longleftrightarrow$ `<em> italics </em>`\n",
    " \n",
    "\n",
    " <b> boldface </b> $ \\Longleftrightarrow$ `<b> boldface </b>`"
   ]
  },
  {
   "cell_type": "code",
   "execution_count": 84,
   "id": "4e5f205c",
   "metadata": {
    "slideshow": {
     "slide_type": "fragment"
    }
   },
   "outputs": [
    {
     "data": {
      "text/plain": [
       "'<em> qwerty </em>'"
      ]
     },
     "execution_count": 84,
     "metadata": {},
     "output_type": "execute_result"
    },
    {
     "data": {
      "application/javascript": "\n            setTimeout(function() {\n                var nbb_cell_id = 84;\n                var nbb_unformatted_code = \"def make_italics(s: str) -> str:\\n    return f\\\"<em> {s} </em>\\\"\\n\\n\\nmake_italics(\\\"qwerty\\\")\";\n                var nbb_formatted_code = \"def make_italics(s: str) -> str:\\n    return f\\\"<em> {s} </em>\\\"\\n\\n\\nmake_italics(\\\"qwerty\\\")\";\n                var nbb_cells = Jupyter.notebook.get_cells();\n                for (var i = 0; i < nbb_cells.length; ++i) {\n                    if (nbb_cells[i].input_prompt_number == nbb_cell_id) {\n                        if (nbb_cells[i].get_text() == nbb_unformatted_code) {\n                             nbb_cells[i].set_text(nbb_formatted_code);\n                        }\n                        break;\n                    }\n                }\n            }, 500);\n            ",
      "text/plain": [
       "<IPython.core.display.Javascript object>"
      ]
     },
     "metadata": {},
     "output_type": "display_data"
    }
   ],
   "source": [
    "def make_italics(s: str) -> str:\n",
    "    return f\"<em> {s} </em>\"\n",
    "\n",
    "\n",
    "make_italics(\"qwerty\")"
   ]
  },
  {
   "cell_type": "code",
   "execution_count": 85,
   "id": "ec1807e6",
   "metadata": {
    "slideshow": {
     "slide_type": "fragment"
    }
   },
   "outputs": [
    {
     "data": {
      "text/plain": [
       "'<b> qwerty </b>'"
      ]
     },
     "execution_count": 85,
     "metadata": {},
     "output_type": "execute_result"
    },
    {
     "data": {
      "application/javascript": "\n            setTimeout(function() {\n                var nbb_cell_id = 85;\n                var nbb_unformatted_code = \"def make_bold(s: str) -> str:\\n    return f\\\"<b> {s} </b>\\\"\\n\\n\\nmake_bold(\\\"qwerty\\\")\";\n                var nbb_formatted_code = \"def make_bold(s: str) -> str:\\n    return f\\\"<b> {s} </b>\\\"\\n\\n\\nmake_bold(\\\"qwerty\\\")\";\n                var nbb_cells = Jupyter.notebook.get_cells();\n                for (var i = 0; i < nbb_cells.length; ++i) {\n                    if (nbb_cells[i].input_prompt_number == nbb_cell_id) {\n                        if (nbb_cells[i].get_text() == nbb_unformatted_code) {\n                             nbb_cells[i].set_text(nbb_formatted_code);\n                        }\n                        break;\n                    }\n                }\n            }, 500);\n            ",
      "text/plain": [
       "<IPython.core.display.Javascript object>"
      ]
     },
     "metadata": {},
     "output_type": "display_data"
    }
   ],
   "source": [
    "def make_bold(s: str) -> str:\n",
    "    return f\"<b> {s} </b>\"\n",
    "\n",
    "\n",
    "make_bold(\"qwerty\")"
   ]
  },
  {
   "cell_type": "markdown",
   "id": "6191d896",
   "metadata": {
    "slideshow": {
     "slide_type": "notes"
    }
   },
   "source": [
    "But what if I want to combine them?"
   ]
  },
  {
   "cell_type": "code",
   "execution_count": 86,
   "id": "b2394b70",
   "metadata": {
    "slideshow": {
     "slide_type": "subslide"
    }
   },
   "outputs": [
    {
     "name": "stdout",
     "output_type": "stream",
     "text": [
      "<b> <em> qwerty </em> </b>\n"
     ]
    },
    {
     "data": {
      "application/javascript": "\n            setTimeout(function() {\n                var nbb_cell_id = 86;\n                var nbb_unformatted_code = \"def make_bold_italics(s: str) -> str:\\n    italics_string = make_italics(s)\\n    bold_italics_s = make_bold(italics_string)\\n    return bold_italics_s\\n\\n\\nprint(make_bold_italics(\\\"qwerty\\\"))\";\n                var nbb_formatted_code = \"def make_bold_italics(s: str) -> str:\\n    italics_string = make_italics(s)\\n    bold_italics_s = make_bold(italics_string)\\n    return bold_italics_s\\n\\n\\nprint(make_bold_italics(\\\"qwerty\\\"))\";\n                var nbb_cells = Jupyter.notebook.get_cells();\n                for (var i = 0; i < nbb_cells.length; ++i) {\n                    if (nbb_cells[i].input_prompt_number == nbb_cell_id) {\n                        if (nbb_cells[i].get_text() == nbb_unformatted_code) {\n                             nbb_cells[i].set_text(nbb_formatted_code);\n                        }\n                        break;\n                    }\n                }\n            }, 500);\n            ",
      "text/plain": [
       "<IPython.core.display.Javascript object>"
      ]
     },
     "metadata": {},
     "output_type": "display_data"
    }
   ],
   "source": [
    "def make_bold_italics(s: str) -> str:\n",
    "    italics_string = make_italics(s)\n",
    "    bold_italics_s = make_bold(italics_string)\n",
    "    return bold_italics_s\n",
    "\n",
    "\n",
    "print(make_bold_italics(\"qwerty\"))"
   ]
  },
  {
   "cell_type": "markdown",
   "id": "25992d8a",
   "metadata": {
    "slideshow": {
     "slide_type": "fragment"
    }
   },
   "source": [
    "But what if I want the outer tag to be *italics* and the inner tag to be **bold**?\n",
    "\n",
    "I would have to define another function similar to `make_bold_italics`"
   ]
  },
  {
   "cell_type": "code",
   "execution_count": 87,
   "id": "2f358382",
   "metadata": {
    "slideshow": {
     "slide_type": "subslide"
    }
   },
   "outputs": [
    {
     "data": {
      "application/javascript": "\n            setTimeout(function() {\n                var nbb_cell_id = 87;\n                var nbb_unformatted_code = \"def italics(f):\\n    def inner(s: str):\\n        return f\\\"<em> {f(s)} </em>\\\"\\n\\n    return inner\\n\\n\\ndef bold(f):\\n    def inner(s: str):\\n        return f\\\"<b> {f(s)} </b>\\\"\\n\\n    return inner\";\n                var nbb_formatted_code = \"def italics(f):\\n    def inner(s: str):\\n        return f\\\"<em> {f(s)} </em>\\\"\\n\\n    return inner\\n\\n\\ndef bold(f):\\n    def inner(s: str):\\n        return f\\\"<b> {f(s)} </b>\\\"\\n\\n    return inner\";\n                var nbb_cells = Jupyter.notebook.get_cells();\n                for (var i = 0; i < nbb_cells.length; ++i) {\n                    if (nbb_cells[i].input_prompt_number == nbb_cell_id) {\n                        if (nbb_cells[i].get_text() == nbb_unformatted_code) {\n                             nbb_cells[i].set_text(nbb_formatted_code);\n                        }\n                        break;\n                    }\n                }\n            }, 500);\n            ",
      "text/plain": [
       "<IPython.core.display.Javascript object>"
      ]
     },
     "metadata": {},
     "output_type": "display_data"
    }
   ],
   "source": [
    "def italics(f):\n",
    "    def inner(s: str):\n",
    "        return f\"<em> {f(s)} </em>\"\n",
    "\n",
    "    return inner\n",
    "\n",
    "\n",
    "def bold(f):\n",
    "    def inner(s: str):\n",
    "        return f\"<b> {f(s)} </b>\"\n",
    "\n",
    "    return inner"
   ]
  },
  {
   "cell_type": "code",
   "execution_count": 88,
   "id": "614db27b",
   "metadata": {
    "slideshow": {
     "slide_type": "fragment"
    }
   },
   "outputs": [
    {
     "data": {
      "text/plain": [
       "'<b> <em> qwerty </em> </b>'"
      ]
     },
     "execution_count": 88,
     "metadata": {},
     "output_type": "execute_result"
    },
    {
     "data": {
      "application/javascript": "\n            setTimeout(function() {\n                var nbb_cell_id = 88;\n                var nbb_unformatted_code = \"def simple(s: str) -> str:\\n    return s\\n\\n\\nbold(italics(simple))(\\\"qwerty\\\")\";\n                var nbb_formatted_code = \"def simple(s: str) -> str:\\n    return s\\n\\n\\nbold(italics(simple))(\\\"qwerty\\\")\";\n                var nbb_cells = Jupyter.notebook.get_cells();\n                for (var i = 0; i < nbb_cells.length; ++i) {\n                    if (nbb_cells[i].input_prompt_number == nbb_cell_id) {\n                        if (nbb_cells[i].get_text() == nbb_unformatted_code) {\n                             nbb_cells[i].set_text(nbb_formatted_code);\n                        }\n                        break;\n                    }\n                }\n            }, 500);\n            ",
      "text/plain": [
       "<IPython.core.display.Javascript object>"
      ]
     },
     "metadata": {},
     "output_type": "display_data"
    }
   ],
   "source": [
    "def simple(s: str) -> str:\n",
    "    return s\n",
    "\n",
    "\n",
    "bold(italics(simple))(\"qwerty\")"
   ]
  },
  {
   "cell_type": "code",
   "execution_count": 89,
   "id": "ce8a5727",
   "metadata": {
    "slideshow": {
     "slide_type": "subslide"
    }
   },
   "outputs": [
    {
     "name": "stdout",
     "output_type": "stream",
     "text": [
      "<b> <em> asdf </em> </b>\n",
      "<em> <b> asdf </b> </em>\n"
     ]
    },
    {
     "data": {
      "application/javascript": "\n            setTimeout(function() {\n                var nbb_cell_id = 89;\n                var nbb_unformatted_code = \"bi = bold(italics(simple))\\nib = italics(bold(simple))\\n\\nprint(bi(\\\"asdf\\\"))\\nprint(ib(\\\"asdf\\\"))\";\n                var nbb_formatted_code = \"bi = bold(italics(simple))\\nib = italics(bold(simple))\\n\\nprint(bi(\\\"asdf\\\"))\\nprint(ib(\\\"asdf\\\"))\";\n                var nbb_cells = Jupyter.notebook.get_cells();\n                for (var i = 0; i < nbb_cells.length; ++i) {\n                    if (nbb_cells[i].input_prompt_number == nbb_cell_id) {\n                        if (nbb_cells[i].get_text() == nbb_unformatted_code) {\n                             nbb_cells[i].set_text(nbb_formatted_code);\n                        }\n                        break;\n                    }\n                }\n            }, 500);\n            ",
      "text/plain": [
       "<IPython.core.display.Javascript object>"
      ]
     },
     "metadata": {},
     "output_type": "display_data"
    }
   ],
   "source": [
    "bi = bold(italics(simple))\n",
    "ib = italics(bold(simple))\n",
    "\n",
    "print(bi(\"asdf\"))\n",
    "print(ib(\"asdf\"))"
   ]
  },
  {
   "cell_type": "code",
   "execution_count": 90,
   "id": "e5feea9f",
   "metadata": {
    "slideshow": {
     "slide_type": "subslide"
    }
   },
   "outputs": [
    {
     "data": {
      "text/plain": [
       "'<b> asdf </b>'"
      ]
     },
     "execution_count": 90,
     "metadata": {},
     "output_type": "execute_result"
    },
    {
     "data": {
      "application/javascript": "\n            setTimeout(function() {\n                var nbb_cell_id = 90;\n                var nbb_unformatted_code = \"@bold\\ndef decorate_string(x):\\n    return x\\n\\n\\ndecorate_string(\\\"asdf\\\")\";\n                var nbb_formatted_code = \"@bold\\ndef decorate_string(x):\\n    return x\\n\\n\\ndecorate_string(\\\"asdf\\\")\";\n                var nbb_cells = Jupyter.notebook.get_cells();\n                for (var i = 0; i < nbb_cells.length; ++i) {\n                    if (nbb_cells[i].input_prompt_number == nbb_cell_id) {\n                        if (nbb_cells[i].get_text() == nbb_unformatted_code) {\n                             nbb_cells[i].set_text(nbb_formatted_code);\n                        }\n                        break;\n                    }\n                }\n            }, 500);\n            ",
      "text/plain": [
       "<IPython.core.display.Javascript object>"
      ]
     },
     "metadata": {},
     "output_type": "display_data"
    }
   ],
   "source": [
    "@bold\n",
    "def decorate_string(x):\n",
    "    return x\n",
    "\n",
    "\n",
    "decorate_string(\"asdf\")"
   ]
  },
  {
   "cell_type": "code",
   "execution_count": 91,
   "id": "00f76b49",
   "metadata": {
    "slideshow": {
     "slide_type": "fragment"
    }
   },
   "outputs": [
    {
     "data": {
      "text/plain": [
       "'<b> <em> asdf </em> </b>'"
      ]
     },
     "execution_count": 91,
     "metadata": {},
     "output_type": "execute_result"
    },
    {
     "data": {
      "application/javascript": "\n            setTimeout(function() {\n                var nbb_cell_id = 91;\n                var nbb_unformatted_code = \"@bold\\n@italics\\ndef decorate_string(x):\\n    return x\\n\\n\\ndecorate_string(\\\"asdf\\\")\";\n                var nbb_formatted_code = \"@bold\\n@italics\\ndef decorate_string(x):\\n    return x\\n\\n\\ndecorate_string(\\\"asdf\\\")\";\n                var nbb_cells = Jupyter.notebook.get_cells();\n                for (var i = 0; i < nbb_cells.length; ++i) {\n                    if (nbb_cells[i].input_prompt_number == nbb_cell_id) {\n                        if (nbb_cells[i].get_text() == nbb_unformatted_code) {\n                             nbb_cells[i].set_text(nbb_formatted_code);\n                        }\n                        break;\n                    }\n                }\n            }, 500);\n            ",
      "text/plain": [
       "<IPython.core.display.Javascript object>"
      ]
     },
     "metadata": {},
     "output_type": "display_data"
    }
   ],
   "source": [
    "@bold\n",
    "@italics\n",
    "def decorate_string(x):\n",
    "    return x\n",
    "\n",
    "\n",
    "decorate_string(\"asdf\")"
   ]
  },
  {
   "cell_type": "code",
   "execution_count": 92,
   "id": "76738409",
   "metadata": {
    "slideshow": {
     "slide_type": "fragment"
    }
   },
   "outputs": [
    {
     "data": {
      "text/plain": [
       "'<em> <b> asdf </b> </em>'"
      ]
     },
     "execution_count": 92,
     "metadata": {},
     "output_type": "execute_result"
    },
    {
     "data": {
      "application/javascript": "\n            setTimeout(function() {\n                var nbb_cell_id = 92;\n                var nbb_unformatted_code = \"@italics\\n@bold\\ndef decorate_string(x):\\n    return x\\n\\n\\ndecorate_string(\\\"asdf\\\")\";\n                var nbb_formatted_code = \"@italics\\n@bold\\ndef decorate_string(x):\\n    return x\\n\\n\\ndecorate_string(\\\"asdf\\\")\";\n                var nbb_cells = Jupyter.notebook.get_cells();\n                for (var i = 0; i < nbb_cells.length; ++i) {\n                    if (nbb_cells[i].input_prompt_number == nbb_cell_id) {\n                        if (nbb_cells[i].get_text() == nbb_unformatted_code) {\n                             nbb_cells[i].set_text(nbb_formatted_code);\n                        }\n                        break;\n                    }\n                }\n            }, 500);\n            ",
      "text/plain": [
       "<IPython.core.display.Javascript object>"
      ]
     },
     "metadata": {},
     "output_type": "display_data"
    }
   ],
   "source": [
    "@italics\n",
    "@bold\n",
    "def decorate_string(x):\n",
    "    return x\n",
    "\n",
    "\n",
    "decorate_string(\"asdf\")"
   ]
  },
  {
   "cell_type": "markdown",
   "id": "25934f16",
   "metadata": {
    "slideshow": {
     "slide_type": "slide"
    }
   },
   "source": [
    "# Timing example"
   ]
  },
  {
   "cell_type": "code",
   "execution_count": 93,
   "id": "07fd61c4",
   "metadata": {
    "slideshow": {
     "slide_type": "fragment"
    }
   },
   "outputs": [
    {
     "name": "stdout",
     "output_type": "stream",
     "text": [
      "Iterating over a list took 0.03 seconds.\n"
     ]
    },
    {
     "data": {
      "application/javascript": "\n            setTimeout(function() {\n                var nbb_cell_id = 93;\n                var nbb_unformatted_code = \"N = 1000000\\n\\nstart = time.perf_counter()\\n\\nfor i in range(N):\\n    pass\\n\\nend = time.perf_counter()\\n\\nprint(f\\\"Iterating over a list took {end - start:.2f} seconds.\\\")\";\n                var nbb_formatted_code = \"N = 1000000\\n\\nstart = time.perf_counter()\\n\\nfor i in range(N):\\n    pass\\n\\nend = time.perf_counter()\\n\\nprint(f\\\"Iterating over a list took {end - start:.2f} seconds.\\\")\";\n                var nbb_cells = Jupyter.notebook.get_cells();\n                for (var i = 0; i < nbb_cells.length; ++i) {\n                    if (nbb_cells[i].input_prompt_number == nbb_cell_id) {\n                        if (nbb_cells[i].get_text() == nbb_unformatted_code) {\n                             nbb_cells[i].set_text(nbb_formatted_code);\n                        }\n                        break;\n                    }\n                }\n            }, 500);\n            ",
      "text/plain": [
       "<IPython.core.display.Javascript object>"
      ]
     },
     "metadata": {},
     "output_type": "display_data"
    }
   ],
   "source": [
    "N = 1000000\n",
    "\n",
    "start = time.perf_counter()\n",
    "\n",
    "for i in range(N):\n",
    "    pass\n",
    "\n",
    "end = time.perf_counter()\n",
    "\n",
    "print(f\"Iterating over a list took {end - start:.2f} seconds.\")"
   ]
  },
  {
   "cell_type": "code",
   "execution_count": 94,
   "id": "9462237d",
   "metadata": {
    "slideshow": {
     "slide_type": "fragment"
    }
   },
   "outputs": [
    {
     "data": {
      "application/javascript": "\n            setTimeout(function() {\n                var nbb_cell_id = 94;\n                var nbb_unformatted_code = \"def iterating(N=1000000):\\n    start = time.perf_counter()\\n\\n    for i in range(N):\\n        pass\\n\\n    end = time.perf_counter()\\n\\n    print(f\\\"Function iterating finished {end - start:.2f} seconds.\\\")\";\n                var nbb_formatted_code = \"def iterating(N=1000000):\\n    start = time.perf_counter()\\n\\n    for i in range(N):\\n        pass\\n\\n    end = time.perf_counter()\\n\\n    print(f\\\"Function iterating finished {end - start:.2f} seconds.\\\")\";\n                var nbb_cells = Jupyter.notebook.get_cells();\n                for (var i = 0; i < nbb_cells.length; ++i) {\n                    if (nbb_cells[i].input_prompt_number == nbb_cell_id) {\n                        if (nbb_cells[i].get_text() == nbb_unformatted_code) {\n                             nbb_cells[i].set_text(nbb_formatted_code);\n                        }\n                        break;\n                    }\n                }\n            }, 500);\n            ",
      "text/plain": [
       "<IPython.core.display.Javascript object>"
      ]
     },
     "metadata": {},
     "output_type": "display_data"
    }
   ],
   "source": [
    "def iterating(N=1000000):\n",
    "    start = time.perf_counter()\n",
    "\n",
    "    for i in range(N):\n",
    "        pass\n",
    "\n",
    "    end = time.perf_counter()\n",
    "\n",
    "    print(f\"Function iterating finished {end - start:.2f} seconds.\")"
   ]
  },
  {
   "cell_type": "code",
   "execution_count": 95,
   "id": "608fce9c",
   "metadata": {
    "slideshow": {
     "slide_type": "fragment"
    }
   },
   "outputs": [
    {
     "name": "stdout",
     "output_type": "stream",
     "text": [
      "Function iterating finished 0.02 seconds.\n"
     ]
    },
    {
     "data": {
      "application/javascript": "\n            setTimeout(function() {\n                var nbb_cell_id = 95;\n                var nbb_unformatted_code = \"import time\\n\\niterating(N=1000000)\";\n                var nbb_formatted_code = \"import time\\n\\niterating(N=1000000)\";\n                var nbb_cells = Jupyter.notebook.get_cells();\n                for (var i = 0; i < nbb_cells.length; ++i) {\n                    if (nbb_cells[i].input_prompt_number == nbb_cell_id) {\n                        if (nbb_cells[i].get_text() == nbb_unformatted_code) {\n                             nbb_cells[i].set_text(nbb_formatted_code);\n                        }\n                        break;\n                    }\n                }\n            }, 500);\n            ",
      "text/plain": [
       "<IPython.core.display.Javascript object>"
      ]
     },
     "metadata": {},
     "output_type": "display_data"
    }
   ],
   "source": [
    "iterating(N=1000000)"
   ]
  },
  {
   "cell_type": "code",
   "execution_count": 96,
   "id": "246a90ec",
   "metadata": {
    "slideshow": {
     "slide_type": "subslide"
    }
   },
   "outputs": [
    {
     "data": {
      "text/plain": [
       "<function __main__.timing(f)>"
      ]
     },
     "execution_count": 96,
     "metadata": {},
     "output_type": "execute_result"
    },
    {
     "data": {
      "application/javascript": "\n            setTimeout(function() {\n                var nbb_cell_id = 96;\n                var nbb_unformatted_code = \"def timing(f):\\n    @functools.wraps(f)\\n    def inner(*args, **kwargs):\\n        start = time.perf_counter()\\n        val = f(*args, **kwargs)\\n        end = time.perf_counter()\\n\\n        print(f\\\"Function {f.__qualname__} finished in {end - start:.2f} seconds.\\\")\\n        return val\\n\\n    return inner\\n\\n\\ntiming\";\n                var nbb_formatted_code = \"def timing(f):\\n    @functools.wraps(f)\\n    def inner(*args, **kwargs):\\n        start = time.perf_counter()\\n        val = f(*args, **kwargs)\\n        end = time.perf_counter()\\n\\n        print(f\\\"Function {f.__qualname__} finished in {end - start:.2f} seconds.\\\")\\n        return val\\n\\n    return inner\\n\\n\\ntiming\";\n                var nbb_cells = Jupyter.notebook.get_cells();\n                for (var i = 0; i < nbb_cells.length; ++i) {\n                    if (nbb_cells[i].input_prompt_number == nbb_cell_id) {\n                        if (nbb_cells[i].get_text() == nbb_unformatted_code) {\n                             nbb_cells[i].set_text(nbb_formatted_code);\n                        }\n                        break;\n                    }\n                }\n            }, 500);\n            ",
      "text/plain": [
       "<IPython.core.display.Javascript object>"
      ]
     },
     "metadata": {},
     "output_type": "display_data"
    }
   ],
   "source": [
    "def timing(f):\n",
    "    @functools.wraps(f)\n",
    "    def inner(*args, **kwargs):\n",
    "        start = time.perf_counter()\n",
    "        val = f(*args, **kwargs)\n",
    "        end = time.perf_counter()\n",
    "\n",
    "        print(f\"Function {f.__qualname__} finished in {end - start:.2f} seconds.\")\n",
    "        return val\n",
    "\n",
    "    return inner\n",
    "\n",
    "\n",
    "timing"
   ]
  },
  {
   "cell_type": "code",
   "execution_count": 97,
   "id": "b4cb5905",
   "metadata": {
    "slideshow": {
     "slide_type": "fragment"
    }
   },
   "outputs": [
    {
     "data": {
      "text/plain": [
       "<function __main__.create_data(n: int)>"
      ]
     },
     "metadata": {},
     "output_type": "display_data"
    },
    {
     "name": "stdout",
     "output_type": "stream",
     "text": [
      "Function create_data finished in 0.04 seconds.\n"
     ]
    },
    {
     "data": {
      "application/javascript": "\n            setTimeout(function() {\n                var nbb_cell_id = 97;\n                var nbb_unformatted_code = \"@timing\\ndef create_data(n: int):\\n    return [i for i in range(1, int(n))]\\n\\n\\ndisplay(create_data)\\ncreate_data(n=1000000);\";\n                var nbb_formatted_code = \"@timing\\ndef create_data(n: int):\\n    return [i for i in range(1, int(n))]\\n\\n\\ndisplay(create_data)\\ncreate_data(n=1000000)\";\n                var nbb_cells = Jupyter.notebook.get_cells();\n                for (var i = 0; i < nbb_cells.length; ++i) {\n                    if (nbb_cells[i].input_prompt_number == nbb_cell_id) {\n                        if (nbb_cells[i].get_text() == nbb_unformatted_code) {\n                             nbb_cells[i].set_text(nbb_formatted_code);\n                        }\n                        break;\n                    }\n                }\n            }, 500);\n            ",
      "text/plain": [
       "<IPython.core.display.Javascript object>"
      ]
     },
     "metadata": {},
     "output_type": "display_data"
    }
   ],
   "source": [
    "@timing\n",
    "def create_data(n: int):\n",
    "    return [i for i in range(1, int(n))]\n",
    "\n",
    "\n",
    "display(create_data)\n",
    "create_data(n=1000000);"
   ]
  },
  {
   "cell_type": "code",
   "execution_count": 98,
   "id": "cdfdaf9f",
   "metadata": {
    "slideshow": {
     "slide_type": "subslide"
    }
   },
   "outputs": [
    {
     "data": {
      "application/javascript": "\n            setTimeout(function() {\n                var nbb_cell_id = 98;\n                var nbb_unformatted_code = \"class PositiveIntegersGenerator:\\n    @timing\\n    def run(self, n) -> list:\\n        return [i for i in range(1, int(n))]\";\n                var nbb_formatted_code = \"class PositiveIntegersGenerator:\\n    @timing\\n    def run(self, n) -> list:\\n        return [i for i in range(1, int(n))]\";\n                var nbb_cells = Jupyter.notebook.get_cells();\n                for (var i = 0; i < nbb_cells.length; ++i) {\n                    if (nbb_cells[i].input_prompt_number == nbb_cell_id) {\n                        if (nbb_cells[i].get_text() == nbb_unformatted_code) {\n                             nbb_cells[i].set_text(nbb_formatted_code);\n                        }\n                        break;\n                    }\n                }\n            }, 500);\n            ",
      "text/plain": [
       "<IPython.core.display.Javascript object>"
      ]
     },
     "metadata": {},
     "output_type": "display_data"
    }
   ],
   "source": [
    "class PositiveIntegersGenerator:\n",
    "    @timing\n",
    "    def run(self, n) -> list:\n",
    "        return [i for i in range(1, int(n))]"
   ]
  },
  {
   "cell_type": "code",
   "execution_count": 99,
   "id": "1e6601f0",
   "metadata": {
    "slideshow": {
     "slide_type": "fragment"
    }
   },
   "outputs": [
    {
     "name": "stdout",
     "output_type": "stream",
     "text": [
      "Function PositiveIntegersGenerator.run finished in 0.04 seconds.\n"
     ]
    },
    {
     "data": {
      "application/javascript": "\n            setTimeout(function() {\n                var nbb_cell_id = 99;\n                var nbb_unformatted_code = \"positive_integer_list_generator = PositiveIntegersGenerator()\\npositive_integer_list_generator.run(n=1000000);\";\n                var nbb_formatted_code = \"positive_integer_list_generator = PositiveIntegersGenerator()\\npositive_integer_list_generator.run(n=1000000)\";\n                var nbb_cells = Jupyter.notebook.get_cells();\n                for (var i = 0; i < nbb_cells.length; ++i) {\n                    if (nbb_cells[i].input_prompt_number == nbb_cell_id) {\n                        if (nbb_cells[i].get_text() == nbb_unformatted_code) {\n                             nbb_cells[i].set_text(nbb_formatted_code);\n                        }\n                        break;\n                    }\n                }\n            }, 500);\n            ",
      "text/plain": [
       "<IPython.core.display.Javascript object>"
      ]
     },
     "metadata": {},
     "output_type": "display_data"
    }
   ],
   "source": [
    "positive_integer_list_generator = PositiveIntegersGenerator()\n",
    "positive_integer_list_generator.run(n=1000000);"
   ]
  },
  {
   "cell_type": "markdown",
   "id": "fb11c2f0",
   "metadata": {
    "slideshow": {
     "slide_type": "slide"
    }
   },
   "source": [
    "## Classmethod"
   ]
  },
  {
   "cell_type": "code",
   "execution_count": 100,
   "id": "bdaf24e3",
   "metadata": {
    "slideshow": {
     "slide_type": "fragment"
    }
   },
   "outputs": [
    {
     "data": {
      "application/javascript": "\n            setTimeout(function() {\n                var nbb_cell_id = 100;\n                var nbb_unformatted_code = \"class Date:\\n    def __init__(self, date: str):\\n        \\\"\\\"\\\"\\n        Args:\\n            string in UK format, i.e. \\\"day-month-year\\\"\\n        \\\"\\\"\\\"\\n        self.date = date\\n\\n    @classmethod\\n    def from_us_format(cls, date: str):\\n        \\\"\\\"\\\"\\n        This method is used as a constructor\\n        Args:\\n            date: in US format, i.e.\\n                  \\\"year-month-date\\\"\\n\\n        \\\"\\\"\\\"\\n        years, months, days = date.split(\\\"-\\\")\\n        date_uk_format = \\\"-\\\".join([days, months, years])\\n        return cls(date_uk_format)\\n\\n    def time_until_Christmas(self):\\n        \\\"\\\"\\\"This could be implemented as a staticmethod also\\\"\\\"\\\"\\n\\n        date_format = \\\"%d-%m-%Y\\\"\\n        current_year = self.date.split(\\\"-\\\")[2]\\n        christmas_date = f\\\"25-12-{current_year}\\\"\\n\\n        current_datetime = dt.datetime.strptime(self.date, date_format)\\n        christmas_datetime = dt.datetime.strptime(christmas_date, date_format)\\n\\n        return relativedelta.relativedelta(christmas_datetime, current_datetime)\";\n                var nbb_formatted_code = \"class Date:\\n    def __init__(self, date: str):\\n        \\\"\\\"\\\"\\n        Args:\\n            string in UK format, i.e. \\\"day-month-year\\\"\\n        \\\"\\\"\\\"\\n        self.date = date\\n\\n    @classmethod\\n    def from_us_format(cls, date: str):\\n        \\\"\\\"\\\"\\n        This method is used as a constructor\\n        Args:\\n            date: in US format, i.e.\\n                  \\\"year-month-date\\\"\\n\\n        \\\"\\\"\\\"\\n        years, months, days = date.split(\\\"-\\\")\\n        date_uk_format = \\\"-\\\".join([days, months, years])\\n        return cls(date_uk_format)\\n\\n    def time_until_Christmas(self):\\n        \\\"\\\"\\\"This could be implemented as a staticmethod also\\\"\\\"\\\"\\n\\n        date_format = \\\"%d-%m-%Y\\\"\\n        current_year = self.date.split(\\\"-\\\")[2]\\n        christmas_date = f\\\"25-12-{current_year}\\\"\\n\\n        current_datetime = dt.datetime.strptime(self.date, date_format)\\n        christmas_datetime = dt.datetime.strptime(christmas_date, date_format)\\n\\n        return relativedelta.relativedelta(christmas_datetime, current_datetime)\";\n                var nbb_cells = Jupyter.notebook.get_cells();\n                for (var i = 0; i < nbb_cells.length; ++i) {\n                    if (nbb_cells[i].input_prompt_number == nbb_cell_id) {\n                        if (nbb_cells[i].get_text() == nbb_unformatted_code) {\n                             nbb_cells[i].set_text(nbb_formatted_code);\n                        }\n                        break;\n                    }\n                }\n            }, 500);\n            ",
      "text/plain": [
       "<IPython.core.display.Javascript object>"
      ]
     },
     "metadata": {},
     "output_type": "display_data"
    }
   ],
   "source": [
    "class Date:\n",
    "    def __init__(self, date: str):\n",
    "        \"\"\"\n",
    "        Args:\n",
    "            string in UK format, i.e. \"day-month-year\"\n",
    "        \"\"\"\n",
    "        self.date = date\n",
    "\n",
    "    @classmethod\n",
    "    def from_us_format(cls, date: str):\n",
    "        \"\"\"\n",
    "        This method is used as a constructor\n",
    "        Args:\n",
    "            date: in US format, i.e.\n",
    "                  \"year-month-date\"\n",
    "\n",
    "        \"\"\"\n",
    "        years, months, days = date.split(\"-\")\n",
    "        date_uk_format = \"-\".join([days, months, years])\n",
    "        return cls(date_uk_format)\n",
    "\n",
    "    def time_until_Christmas(self):\n",
    "        \"\"\"This could be implemented as a staticmethod also\"\"\"\n",
    "\n",
    "        date_format = \"%d-%m-%Y\"\n",
    "        current_year = self.date.split(\"-\")[2]\n",
    "        christmas_date = f\"25-12-{current_year}\"\n",
    "\n",
    "        current_datetime = dt.datetime.strptime(self.date, date_format)\n",
    "        christmas_datetime = dt.datetime.strptime(christmas_date, date_format)\n",
    "\n",
    "        return relativedelta.relativedelta(christmas_datetime, current_datetime)"
   ]
  },
  {
   "cell_type": "code",
   "execution_count": 101,
   "id": "6134a52f",
   "metadata": {
    "slideshow": {
     "slide_type": "subslide"
    }
   },
   "outputs": [
    {
     "data": {
      "text/plain": [
       "relativedelta(months=+6, days=+28)"
      ]
     },
     "execution_count": 101,
     "metadata": {},
     "output_type": "execute_result"
    },
    {
     "data": {
      "application/javascript": "\n            setTimeout(function() {\n                var nbb_cell_id = 101;\n                var nbb_unformatted_code = \"date_str = \\\"27-05-2022\\\"\\ndate_obj = Date(date_str)\\ndate_obj.time_until_Christmas()\";\n                var nbb_formatted_code = \"date_str = \\\"27-05-2022\\\"\\ndate_obj = Date(date_str)\\ndate_obj.time_until_Christmas()\";\n                var nbb_cells = Jupyter.notebook.get_cells();\n                for (var i = 0; i < nbb_cells.length; ++i) {\n                    if (nbb_cells[i].input_prompt_number == nbb_cell_id) {\n                        if (nbb_cells[i].get_text() == nbb_unformatted_code) {\n                             nbb_cells[i].set_text(nbb_formatted_code);\n                        }\n                        break;\n                    }\n                }\n            }, 500);\n            ",
      "text/plain": [
       "<IPython.core.display.Javascript object>"
      ]
     },
     "metadata": {},
     "output_type": "display_data"
    }
   ],
   "source": [
    "date_str = \"27-05-2022\"\n",
    "date_obj = Date(date_str)\n",
    "date_obj.time_until_Christmas()"
   ]
  },
  {
   "cell_type": "code",
   "execution_count": 102,
   "id": "9ae37a92",
   "metadata": {
    "slideshow": {
     "slide_type": "fragment"
    }
   },
   "outputs": [
    {
     "name": "stdout",
     "output_type": "stream",
     "text": [
      "<__main__.Date object at 0x000002983E679C90>\n",
      "27-05-2022\n"
     ]
    },
    {
     "data": {
      "text/plain": [
       "relativedelta(months=+6, days=+28)"
      ]
     },
     "execution_count": 102,
     "metadata": {},
     "output_type": "execute_result"
    },
    {
     "data": {
      "application/javascript": "\n            setTimeout(function() {\n                var nbb_cell_id = 102;\n                var nbb_unformatted_code = \"date_str = \\\"2022-05-27\\\"\\n\\n\\ndate_obj = Date.from_us_format(date_str)\\n\\n\\nprint(date_obj)\\nprint(date_obj.date)\\n\\n\\ndate_obj.time_until_Christmas()\";\n                var nbb_formatted_code = \"date_str = \\\"2022-05-27\\\"\\n\\n\\ndate_obj = Date.from_us_format(date_str)\\n\\n\\nprint(date_obj)\\nprint(date_obj.date)\\n\\n\\ndate_obj.time_until_Christmas()\";\n                var nbb_cells = Jupyter.notebook.get_cells();\n                for (var i = 0; i < nbb_cells.length; ++i) {\n                    if (nbb_cells[i].input_prompt_number == nbb_cell_id) {\n                        if (nbb_cells[i].get_text() == nbb_unformatted_code) {\n                             nbb_cells[i].set_text(nbb_formatted_code);\n                        }\n                        break;\n                    }\n                }\n            }, 500);\n            ",
      "text/plain": [
       "<IPython.core.display.Javascript object>"
      ]
     },
     "metadata": {},
     "output_type": "display_data"
    }
   ],
   "source": [
    "date_str = \"2022-05-27\"\n",
    "\n",
    "\n",
    "date_obj = Date.from_us_format(date_str)\n",
    "\n",
    "\n",
    "print(date_obj)\n",
    "print(date_obj.date)\n",
    "\n",
    "\n",
    "date_obj.time_until_Christmas()"
   ]
  },
  {
   "cell_type": "markdown",
   "id": "02504f15",
   "metadata": {},
   "source": [
    "## DataFrame example"
   ]
  },
  {
   "cell_type": "code",
   "execution_count": 103,
   "id": "ac77b38b",
   "metadata": {
    "slideshow": {
     "slide_type": "subslide"
    }
   },
   "outputs": [
    {
     "data": {
      "application/javascript": "\n            setTimeout(function() {\n                var nbb_cell_id = 103;\n                var nbb_unformatted_code = \"class DataFrameStats:\\n    def __init__(self, df: pd.DataFrame):\\n        self.df = df\\n\\n    @classmethod\\n    def from_csv(cls, csv_path: str):\\n        df = pd.read_csv(csv_path)\\n        return cls(df)\\n\\n    def get_shape(self):\\n        return self.df.shape\";\n                var nbb_formatted_code = \"class DataFrameStats:\\n    def __init__(self, df: pd.DataFrame):\\n        self.df = df\\n\\n    @classmethod\\n    def from_csv(cls, csv_path: str):\\n        df = pd.read_csv(csv_path)\\n        return cls(df)\\n\\n    def get_shape(self):\\n        return self.df.shape\";\n                var nbb_cells = Jupyter.notebook.get_cells();\n                for (var i = 0; i < nbb_cells.length; ++i) {\n                    if (nbb_cells[i].input_prompt_number == nbb_cell_id) {\n                        if (nbb_cells[i].get_text() == nbb_unformatted_code) {\n                             nbb_cells[i].set_text(nbb_formatted_code);\n                        }\n                        break;\n                    }\n                }\n            }, 500);\n            ",
      "text/plain": [
       "<IPython.core.display.Javascript object>"
      ]
     },
     "metadata": {},
     "output_type": "display_data"
    }
   ],
   "source": [
    "class DataFrameStats:\n",
    "    def __init__(self, df: pd.DataFrame):\n",
    "        self.df = df\n",
    "\n",
    "    @classmethod\n",
    "    def from_csv(cls, csv_path: str):\n",
    "        df = pd.read_csv(csv_path)\n",
    "        return cls(df)\n",
    "\n",
    "    def get_shape(self):\n",
    "        return self.df.shape"
   ]
  },
  {
   "cell_type": "code",
   "execution_count": 104,
   "id": "a16839f1",
   "metadata": {
    "slideshow": {
     "slide_type": "subslide"
    }
   },
   "outputs": [
    {
     "data": {
      "text/html": [
       "<div>\n",
       "<style scoped>\n",
       "    .dataframe tbody tr th:only-of-type {\n",
       "        vertical-align: middle;\n",
       "    }\n",
       "\n",
       "    .dataframe tbody tr th {\n",
       "        vertical-align: top;\n",
       "    }\n",
       "\n",
       "    .dataframe thead th {\n",
       "        text-align: right;\n",
       "    }\n",
       "</style>\n",
       "<table border=\"1\" class=\"dataframe\">\n",
       "  <thead>\n",
       "    <tr style=\"text-align: right;\">\n",
       "      <th></th>\n",
       "      <th>name</th>\n",
       "      <th>last name</th>\n",
       "    </tr>\n",
       "  </thead>\n",
       "  <tbody>\n",
       "    <tr>\n",
       "      <th>0</th>\n",
       "      <td>Bob</td>\n",
       "      <td>Brown</td>\n",
       "    </tr>\n",
       "    <tr>\n",
       "      <th>1</th>\n",
       "      <td>Alice</td>\n",
       "      <td>Alison</td>\n",
       "    </tr>\n",
       "    <tr>\n",
       "      <th>2</th>\n",
       "      <td>John</td>\n",
       "      <td>Doe</td>\n",
       "    </tr>\n",
       "  </tbody>\n",
       "</table>\n",
       "</div>"
      ],
      "text/plain": [
       "    name last name\n",
       "0    Bob     Brown\n",
       "1  Alice    Alison\n",
       "2   John       Doe"
      ]
     },
     "metadata": {},
     "output_type": "display_data"
    },
    {
     "data": {
      "application/javascript": "\n            setTimeout(function() {\n                var nbb_cell_id = 104;\n                var nbb_unformatted_code = \"df = pd.DataFrame(\\n    ({\\\"name\\\": [\\\"Bob\\\", \\\"Alice\\\", \\\"John\\\"], \\\"last name\\\": [\\\"Brown\\\", \\\"Alison\\\", \\\"Doe\\\"]})\\n)\\n\\ndisplay(df)\";\n                var nbb_formatted_code = \"df = pd.DataFrame(\\n    ({\\\"name\\\": [\\\"Bob\\\", \\\"Alice\\\", \\\"John\\\"], \\\"last name\\\": [\\\"Brown\\\", \\\"Alison\\\", \\\"Doe\\\"]})\\n)\\n\\ndisplay(df)\";\n                var nbb_cells = Jupyter.notebook.get_cells();\n                for (var i = 0; i < nbb_cells.length; ++i) {\n                    if (nbb_cells[i].input_prompt_number == nbb_cell_id) {\n                        if (nbb_cells[i].get_text() == nbb_unformatted_code) {\n                             nbb_cells[i].set_text(nbb_formatted_code);\n                        }\n                        break;\n                    }\n                }\n            }, 500);\n            ",
      "text/plain": [
       "<IPython.core.display.Javascript object>"
      ]
     },
     "metadata": {},
     "output_type": "display_data"
    }
   ],
   "source": [
    "df = pd.DataFrame(\n",
    "    ({\"name\": [\"Bob\", \"Alice\", \"John\"], \"last name\": [\"Brown\", \"Alison\", \"Doe\"]})\n",
    ")\n",
    "\n",
    "display(df)"
   ]
  },
  {
   "cell_type": "code",
   "execution_count": 105,
   "id": "782feaac",
   "metadata": {
    "slideshow": {
     "slide_type": "fragment"
    }
   },
   "outputs": [
    {
     "name": "stdout",
     "output_type": "stream",
     "text": [
      "<__main__.DataFrameStats object at 0x000002983E590940>\n",
      "\n",
      "\n",
      "(3, 2)\n"
     ]
    },
    {
     "data": {
      "application/javascript": "\n            setTimeout(function() {\n                var nbb_cell_id = 105;\n                var nbb_unformatted_code = \"dataframe_stats_obj = DataFrameStats(df)\\nprint(dataframe_stats_obj)\\nprint(\\\"\\\\n\\\")\\nprint(dataframe_stats_obj.get_shape())\";\n                var nbb_formatted_code = \"dataframe_stats_obj = DataFrameStats(df)\\nprint(dataframe_stats_obj)\\nprint(\\\"\\\\n\\\")\\nprint(dataframe_stats_obj.get_shape())\";\n                var nbb_cells = Jupyter.notebook.get_cells();\n                for (var i = 0; i < nbb_cells.length; ++i) {\n                    if (nbb_cells[i].input_prompt_number == nbb_cell_id) {\n                        if (nbb_cells[i].get_text() == nbb_unformatted_code) {\n                             nbb_cells[i].set_text(nbb_formatted_code);\n                        }\n                        break;\n                    }\n                }\n            }, 500);\n            ",
      "text/plain": [
       "<IPython.core.display.Javascript object>"
      ]
     },
     "metadata": {},
     "output_type": "display_data"
    }
   ],
   "source": [
    "dataframe_stats_obj = DataFrameStats(df)\n",
    "print(dataframe_stats_obj)\n",
    "print(\"\\n\")\n",
    "print(dataframe_stats_obj.get_shape())"
   ]
  },
  {
   "cell_type": "code",
   "execution_count": 106,
   "id": "453a705d",
   "metadata": {},
   "outputs": [
    {
     "name": "stdout",
     "output_type": "stream",
     "text": [
      "<__main__.DataFrameStats object at 0x000002983CE74BB0>\n",
      "\n",
      "\n",
      "(100, 4)\n"
     ]
    },
    {
     "data": {
      "application/javascript": "\n            setTimeout(function() {\n                var nbb_cell_id = 106;\n                var nbb_unformatted_code = \"dataframe_stats_obj = DataFrameStats.from_csv(\\\"./random_features.csv\\\")\\nprint(dataframe_stats_obj)\\nprint(\\\"\\\\n\\\")\\nprint(dataframe_stats_obj.get_shape())\";\n                var nbb_formatted_code = \"dataframe_stats_obj = DataFrameStats.from_csv(\\\"./random_features.csv\\\")\\nprint(dataframe_stats_obj)\\nprint(\\\"\\\\n\\\")\\nprint(dataframe_stats_obj.get_shape())\";\n                var nbb_cells = Jupyter.notebook.get_cells();\n                for (var i = 0; i < nbb_cells.length; ++i) {\n                    if (nbb_cells[i].input_prompt_number == nbb_cell_id) {\n                        if (nbb_cells[i].get_text() == nbb_unformatted_code) {\n                             nbb_cells[i].set_text(nbb_formatted_code);\n                        }\n                        break;\n                    }\n                }\n            }, 500);\n            ",
      "text/plain": [
       "<IPython.core.display.Javascript object>"
      ]
     },
     "metadata": {},
     "output_type": "display_data"
    }
   ],
   "source": [
    "dataframe_stats_obj = DataFrameStats.from_csv(\"./random_features.csv\")\n",
    "print(dataframe_stats_obj)\n",
    "print(\"\\n\")\n",
    "print(dataframe_stats_obj.get_shape())"
   ]
  },
  {
   "cell_type": "markdown",
   "id": "debd0f75",
   "metadata": {
    "slideshow": {
     "slide_type": "slide"
    }
   },
   "source": [
    "# Abstract method decorator"
   ]
  },
  {
   "cell_type": "code",
   "execution_count": 107,
   "id": "5c61d847",
   "metadata": {
    "slideshow": {
     "slide_type": "fragment"
    }
   },
   "outputs": [
    {
     "data": {
      "application/javascript": "\n            setTimeout(function() {\n                var nbb_cell_id = 107;\n                var nbb_unformatted_code = \"import numpy as np\\n\\n\\nclass IDataGenerator(ABC):\\n    @abstractmethod\\n    def run():\\n        return NotImplemented\\n\\n\\nclass FloatListGenerator(IDataGenerator):\\n    def run(self, n):\\n        np.random.seed(42)\\n        return np.random.random(size=(n,))\\n\\n\\nclass PositiveIntegerListGenerator(IDataGenerator):\\n    def run(self, n):\\n        np.random.seed(42)\\n        return np.random.randint(n, size=(n,))\";\n                var nbb_formatted_code = \"import numpy as np\\n\\n\\nclass IDataGenerator(ABC):\\n    @abstractmethod\\n    def run():\\n        return NotImplemented\\n\\n\\nclass FloatListGenerator(IDataGenerator):\\n    def run(self, n):\\n        np.random.seed(42)\\n        return np.random.random(size=(n,))\\n\\n\\nclass PositiveIntegerListGenerator(IDataGenerator):\\n    def run(self, n):\\n        np.random.seed(42)\\n        return np.random.randint(n, size=(n,))\";\n                var nbb_cells = Jupyter.notebook.get_cells();\n                for (var i = 0; i < nbb_cells.length; ++i) {\n                    if (nbb_cells[i].input_prompt_number == nbb_cell_id) {\n                        if (nbb_cells[i].get_text() == nbb_unformatted_code) {\n                             nbb_cells[i].set_text(nbb_formatted_code);\n                        }\n                        break;\n                    }\n                }\n            }, 500);\n            ",
      "text/plain": [
       "<IPython.core.display.Javascript object>"
      ]
     },
     "metadata": {},
     "output_type": "display_data"
    }
   ],
   "source": [
    "import numpy as np\n",
    "\n",
    "\n",
    "class IDataGenerator(ABC):\n",
    "    @abstractmethod\n",
    "    def run():\n",
    "        return NotImplemented\n",
    "\n",
    "\n",
    "class FloatListGenerator(IDataGenerator):\n",
    "    def run(self, n):\n",
    "        np.random.seed(42)\n",
    "        return np.random.random(size=(n,))\n",
    "\n",
    "\n",
    "class PositiveIntegerListGenerator(IDataGenerator):\n",
    "    def run(self, n):\n",
    "        np.random.seed(42)\n",
    "        return np.random.randint(n, size=(n,))"
   ]
  },
  {
   "cell_type": "code",
   "execution_count": 108,
   "id": "fa249dc4",
   "metadata": {
    "slideshow": {
     "slide_type": "fragment"
    }
   },
   "outputs": [
    {
     "data": {
      "text/plain": [
       "array([6, 3, 7, 4, 6, 9, 2, 6, 7, 4])"
      ]
     },
     "execution_count": 108,
     "metadata": {},
     "output_type": "execute_result"
    },
    {
     "data": {
      "application/javascript": "\n            setTimeout(function() {\n                var nbb_cell_id = 108;\n                var nbb_unformatted_code = \"PositiveIntegerListGenerator().run(n=10)\";\n                var nbb_formatted_code = \"PositiveIntegerListGenerator().run(n=10)\";\n                var nbb_cells = Jupyter.notebook.get_cells();\n                for (var i = 0; i < nbb_cells.length; ++i) {\n                    if (nbb_cells[i].input_prompt_number == nbb_cell_id) {\n                        if (nbb_cells[i].get_text() == nbb_unformatted_code) {\n                             nbb_cells[i].set_text(nbb_formatted_code);\n                        }\n                        break;\n                    }\n                }\n            }, 500);\n            ",
      "text/plain": [
       "<IPython.core.display.Javascript object>"
      ]
     },
     "metadata": {},
     "output_type": "display_data"
    }
   ],
   "source": [
    "PositiveIntegerListGenerator().run(n=10)"
   ]
  },
  {
   "cell_type": "markdown",
   "id": "18f451b5",
   "metadata": {
    "slideshow": {
     "slide_type": "slide"
    }
   },
   "source": [
    "# Staticmethod/property decorator"
   ]
  },
  {
   "cell_type": "code",
   "execution_count": 109,
   "id": "6d2c087e",
   "metadata": {
    "slideshow": {
     "slide_type": "subslide"
    }
   },
   "outputs": [
    {
     "data": {
      "application/javascript": "\n            setTimeout(function() {\n                var nbb_cell_id = 109;\n                var nbb_unformatted_code = \"class Temperature:\\n    def __init__(self, temp):\\n        self._temperature = temp\\n\\n    def to_kelvin(self):\\n        return self.celsius_to_kelvin(self._temperature)\\n\\n    @staticmethod\\n    def celsius_to_kelvin(t: float) -> float:\\n        \\\"\\\"\\\"\\n        Args:\\n            t: temperature in Celsius\\n        Returns:\\n            temperature in Kelvin\\n        \\\"\\\"\\\"\\n        return t - 273\\n\\n    @property\\n    def temperature(self):\\n        print(\\\"Get temperature\\\")\\n        return self._temperature\\n\\n    @temperature.setter\\n    def temperature(self, value):\\n        print(\\\"Set temperature\\\")\\n        self._temperature = value\";\n                var nbb_formatted_code = \"class Temperature:\\n    def __init__(self, temp):\\n        self._temperature = temp\\n\\n    def to_kelvin(self):\\n        return self.celsius_to_kelvin(self._temperature)\\n\\n    @staticmethod\\n    def celsius_to_kelvin(t: float) -> float:\\n        \\\"\\\"\\\"\\n        Args:\\n            t: temperature in Celsius\\n        Returns:\\n            temperature in Kelvin\\n        \\\"\\\"\\\"\\n        return t - 273\\n\\n    @property\\n    def temperature(self):\\n        print(\\\"Get temperature\\\")\\n        return self._temperature\\n\\n    @temperature.setter\\n    def temperature(self, value):\\n        print(\\\"Set temperature\\\")\\n        self._temperature = value\";\n                var nbb_cells = Jupyter.notebook.get_cells();\n                for (var i = 0; i < nbb_cells.length; ++i) {\n                    if (nbb_cells[i].input_prompt_number == nbb_cell_id) {\n                        if (nbb_cells[i].get_text() == nbb_unformatted_code) {\n                             nbb_cells[i].set_text(nbb_formatted_code);\n                        }\n                        break;\n                    }\n                }\n            }, 500);\n            ",
      "text/plain": [
       "<IPython.core.display.Javascript object>"
      ]
     },
     "metadata": {},
     "output_type": "display_data"
    }
   ],
   "source": [
    "class Temperature:\n",
    "    def __init__(self, temp):\n",
    "        self._temperature = temp\n",
    "\n",
    "    def to_kelvin(self):\n",
    "        return self.celsius_to_kelvin(self._temperature)\n",
    "\n",
    "    @staticmethod\n",
    "    def celsius_to_kelvin(t: float) -> float:\n",
    "        \"\"\"\n",
    "        Args:\n",
    "            t: temperature in Celsius\n",
    "        Returns:\n",
    "            temperature in Kelvin\n",
    "        \"\"\"\n",
    "        return t - 273\n",
    "\n",
    "    @property\n",
    "    def temperature(self):\n",
    "        print(\"Get temperature\")\n",
    "        return self._temperature\n",
    "\n",
    "    @temperature.setter\n",
    "    def temperature(self, value):\n",
    "        print(\"Set temperature\")\n",
    "        self._temperature = value"
   ]
  },
  {
   "cell_type": "code",
   "execution_count": 110,
   "id": "275a43c9",
   "metadata": {
    "slideshow": {
     "slide_type": "fragment"
    }
   },
   "outputs": [
    {
     "data": {
      "application/javascript": "\n            setTimeout(function() {\n                var nbb_cell_id = 110;\n                var nbb_unformatted_code = \"a = Temperature(20)\";\n                var nbb_formatted_code = \"a = Temperature(20)\";\n                var nbb_cells = Jupyter.notebook.get_cells();\n                for (var i = 0; i < nbb_cells.length; ++i) {\n                    if (nbb_cells[i].input_prompt_number == nbb_cell_id) {\n                        if (nbb_cells[i].get_text() == nbb_unformatted_code) {\n                             nbb_cells[i].set_text(nbb_formatted_code);\n                        }\n                        break;\n                    }\n                }\n            }, 500);\n            ",
      "text/plain": [
       "<IPython.core.display.Javascript object>"
      ]
     },
     "metadata": {},
     "output_type": "display_data"
    }
   ],
   "source": [
    "a = Temperature(20)"
   ]
  },
  {
   "cell_type": "code",
   "execution_count": 111,
   "id": "62c2f55b",
   "metadata": {
    "slideshow": {
     "slide_type": "fragment"
    }
   },
   "outputs": [
    {
     "data": {
      "text/plain": [
       "-253"
      ]
     },
     "execution_count": 111,
     "metadata": {},
     "output_type": "execute_result"
    },
    {
     "data": {
      "application/javascript": "\n            setTimeout(function() {\n                var nbb_cell_id = 111;\n                var nbb_unformatted_code = \"a.to_kelvin()\";\n                var nbb_formatted_code = \"a.to_kelvin()\";\n                var nbb_cells = Jupyter.notebook.get_cells();\n                for (var i = 0; i < nbb_cells.length; ++i) {\n                    if (nbb_cells[i].input_prompt_number == nbb_cell_id) {\n                        if (nbb_cells[i].get_text() == nbb_unformatted_code) {\n                             nbb_cells[i].set_text(nbb_formatted_code);\n                        }\n                        break;\n                    }\n                }\n            }, 500);\n            ",
      "text/plain": [
       "<IPython.core.display.Javascript object>"
      ]
     },
     "metadata": {},
     "output_type": "display_data"
    }
   ],
   "source": [
    "a.to_kelvin()"
   ]
  },
  {
   "cell_type": "code",
   "execution_count": 112,
   "id": "bfe6684e",
   "metadata": {
    "slideshow": {
     "slide_type": "fragment"
    }
   },
   "outputs": [
    {
     "name": "stdout",
     "output_type": "stream",
     "text": [
      "Set temperature\n"
     ]
    },
    {
     "data": {
      "application/javascript": "\n            setTimeout(function() {\n                var nbb_cell_id = 112;\n                var nbb_unformatted_code = \"a.temperature = 100\";\n                var nbb_formatted_code = \"a.temperature = 100\";\n                var nbb_cells = Jupyter.notebook.get_cells();\n                for (var i = 0; i < nbb_cells.length; ++i) {\n                    if (nbb_cells[i].input_prompt_number == nbb_cell_id) {\n                        if (nbb_cells[i].get_text() == nbb_unformatted_code) {\n                             nbb_cells[i].set_text(nbb_formatted_code);\n                        }\n                        break;\n                    }\n                }\n            }, 500);\n            ",
      "text/plain": [
       "<IPython.core.display.Javascript object>"
      ]
     },
     "metadata": {},
     "output_type": "display_data"
    }
   ],
   "source": [
    "a.temperature = 100"
   ]
  },
  {
   "cell_type": "code",
   "execution_count": 113,
   "id": "fe71d8da",
   "metadata": {
    "slideshow": {
     "slide_type": "fragment"
    }
   },
   "outputs": [
    {
     "name": "stdout",
     "output_type": "stream",
     "text": [
      "Get temperature\n",
      "100\n"
     ]
    },
    {
     "data": {
      "application/javascript": "\n            setTimeout(function() {\n                var nbb_cell_id = 113;\n                var nbb_unformatted_code = \"print(a.temperature)\";\n                var nbb_formatted_code = \"print(a.temperature)\";\n                var nbb_cells = Jupyter.notebook.get_cells();\n                for (var i = 0; i < nbb_cells.length; ++i) {\n                    if (nbb_cells[i].input_prompt_number == nbb_cell_id) {\n                        if (nbb_cells[i].get_text() == nbb_unformatted_code) {\n                             nbb_cells[i].set_text(nbb_formatted_code);\n                        }\n                        break;\n                    }\n                }\n            }, 500);\n            ",
      "text/plain": [
       "<IPython.core.display.Javascript object>"
      ]
     },
     "metadata": {},
     "output_type": "display_data"
    }
   ],
   "source": [
    "print(a.temperature)"
   ]
  },
  {
   "cell_type": "markdown",
   "id": "109244a5",
   "metadata": {
    "slideshow": {
     "slide_type": "slide"
    }
   },
   "source": [
    "# Currency converter example"
   ]
  },
  {
   "cell_type": "code",
   "execution_count": 114,
   "id": "1b65cbde",
   "metadata": {
    "slideshow": {
     "slide_type": "subslide"
    }
   },
   "outputs": [
    {
     "data": {
      "text/plain": [
       "8.333333333333334"
      ]
     },
     "execution_count": 114,
     "metadata": {},
     "output_type": "execute_result"
    },
    {
     "data": {
      "application/javascript": "\n            setTimeout(function() {\n                var nbb_cell_id = 114;\n                var nbb_unformatted_code = \"# REFERENCE CURRENCY HERE is EUR\\n\\nd = {\\\"EUR\\\": 1, \\\"USD\\\": 1.2, \\\"GBP\\\": -0.8, \\\"CAD\\\": 0}\\n\\n# Convert USD into EUR\\n\\n(d[\\\"EUR\\\"] / d[\\\"USD\\\"]) * 10\";\n                var nbb_formatted_code = \"# REFERENCE CURRENCY HERE is EUR\\n\\nd = {\\\"EUR\\\": 1, \\\"USD\\\": 1.2, \\\"GBP\\\": -0.8, \\\"CAD\\\": 0}\\n\\n# Convert USD into EUR\\n\\n(d[\\\"EUR\\\"] / d[\\\"USD\\\"]) * 10\";\n                var nbb_cells = Jupyter.notebook.get_cells();\n                for (var i = 0; i < nbb_cells.length; ++i) {\n                    if (nbb_cells[i].input_prompt_number == nbb_cell_id) {\n                        if (nbb_cells[i].get_text() == nbb_unformatted_code) {\n                             nbb_cells[i].set_text(nbb_formatted_code);\n                        }\n                        break;\n                    }\n                }\n            }, 500);\n            ",
      "text/plain": [
       "<IPython.core.display.Javascript object>"
      ]
     },
     "metadata": {},
     "output_type": "display_data"
    }
   ],
   "source": [
    "# REFERENCE CURRENCY HERE is EUR\n",
    "\n",
    "d = {\"EUR\": 1, \"USD\": 1.2, \"GBP\": -0.8, \"CAD\": 0}\n",
    "\n",
    "# Convert USD into EUR\n",
    "\n",
    "(d[\"EUR\"] / d[\"USD\"]) * 10"
   ]
  },
  {
   "cell_type": "code",
   "execution_count": 115,
   "id": "75a320bf",
   "metadata": {
    "slideshow": {
     "slide_type": "subslide"
    }
   },
   "outputs": [
    {
     "data": {
      "application/javascript": "\n            setTimeout(function() {\n                var nbb_cell_id = 115;\n                var nbb_unformatted_code = \"class CurrencyConverter:\\n    def __init__(\\n        self, currency_src: str, currency_dst: str, exchange_currency_dictionary: Dict\\n    ):\\n        self.currency_src = currency_src\\n        self.currency_dst = currency_dst\\n        self.exchange_currency_dictionary = exchange_currency_dictionary\\n\\n    def convert(self, amount):\\n        converted_amount = self.exchange_ratio * amount\\n        return converted_amount\\n\\n    @property\\n    def exchange_ratio(self):\\n        ratio = (\\n            self.exchange_currency_dictionary[self.currency_dst]\\n            / self.exchange_currency_dictionary[self.currency_src]\\n        )\\n        return ratio\";\n                var nbb_formatted_code = \"class CurrencyConverter:\\n    def __init__(\\n        self, currency_src: str, currency_dst: str, exchange_currency_dictionary: Dict\\n    ):\\n        self.currency_src = currency_src\\n        self.currency_dst = currency_dst\\n        self.exchange_currency_dictionary = exchange_currency_dictionary\\n\\n    def convert(self, amount):\\n        converted_amount = self.exchange_ratio * amount\\n        return converted_amount\\n\\n    @property\\n    def exchange_ratio(self):\\n        ratio = (\\n            self.exchange_currency_dictionary[self.currency_dst]\\n            / self.exchange_currency_dictionary[self.currency_src]\\n        )\\n        return ratio\";\n                var nbb_cells = Jupyter.notebook.get_cells();\n                for (var i = 0; i < nbb_cells.length; ++i) {\n                    if (nbb_cells[i].input_prompt_number == nbb_cell_id) {\n                        if (nbb_cells[i].get_text() == nbb_unformatted_code) {\n                             nbb_cells[i].set_text(nbb_formatted_code);\n                        }\n                        break;\n                    }\n                }\n            }, 500);\n            ",
      "text/plain": [
       "<IPython.core.display.Javascript object>"
      ]
     },
     "metadata": {},
     "output_type": "display_data"
    }
   ],
   "source": [
    "class CurrencyConverter:\n",
    "    def __init__(\n",
    "        self, currency_src: str, currency_dst: str, exchange_currency_dictionary: Dict\n",
    "    ):\n",
    "        self.currency_src = currency_src\n",
    "        self.currency_dst = currency_dst\n",
    "        self.exchange_currency_dictionary = exchange_currency_dictionary\n",
    "\n",
    "    def convert(self, amount):\n",
    "        converted_amount = self.exchange_ratio * amount\n",
    "        return converted_amount\n",
    "\n",
    "    @property\n",
    "    def exchange_ratio(self):\n",
    "        ratio = (\n",
    "            self.exchange_currency_dictionary[self.currency_dst]\n",
    "            / self.exchange_currency_dictionary[self.currency_src]\n",
    "        )\n",
    "        return ratio"
   ]
  },
  {
   "cell_type": "code",
   "execution_count": 116,
   "id": "ec74ffdf",
   "metadata": {
    "slideshow": {
     "slide_type": "subslide"
    }
   },
   "outputs": [
    {
     "data": {
      "application/javascript": "\n            setTimeout(function() {\n                var nbb_cell_id = 116;\n                var nbb_unformatted_code = \"class CurrencyConverter:\\n    def __init__(\\n        self, currency_src: str, currency_dst: str, exchange_currency_dictionary: Dict\\n    ):\\n        self.currency_src = currency_src\\n        self.currency_dst = currency_dst\\n        self.exchange_currency_dictionary = exchange_currency_dictionary\\n\\n    def convert(self, amount):\\n        converted_amount = self.exchange_ratio * amount\\n        return converted_amount\\n\\n    @property\\n    # @validate_exchange_ratio\\n    def exchange_ratio(self):\\n        ratio = (\\n            self.exchange_currency_dictionary[self.currency_dst]\\n            / self.exchange_currency_dictionary[self.currency_src]\\n        )\\n        return ratio\";\n                var nbb_formatted_code = \"class CurrencyConverter:\\n    def __init__(\\n        self, currency_src: str, currency_dst: str, exchange_currency_dictionary: Dict\\n    ):\\n        self.currency_src = currency_src\\n        self.currency_dst = currency_dst\\n        self.exchange_currency_dictionary = exchange_currency_dictionary\\n\\n    def convert(self, amount):\\n        converted_amount = self.exchange_ratio * amount\\n        return converted_amount\\n\\n    @property\\n    # @validate_exchange_ratio\\n    def exchange_ratio(self):\\n        ratio = (\\n            self.exchange_currency_dictionary[self.currency_dst]\\n            / self.exchange_currency_dictionary[self.currency_src]\\n        )\\n        return ratio\";\n                var nbb_cells = Jupyter.notebook.get_cells();\n                for (var i = 0; i < nbb_cells.length; ++i) {\n                    if (nbb_cells[i].input_prompt_number == nbb_cell_id) {\n                        if (nbb_cells[i].get_text() == nbb_unformatted_code) {\n                             nbb_cells[i].set_text(nbb_formatted_code);\n                        }\n                        break;\n                    }\n                }\n            }, 500);\n            ",
      "text/plain": [
       "<IPython.core.display.Javascript object>"
      ]
     },
     "metadata": {},
     "output_type": "display_data"
    }
   ],
   "source": [
    "class CurrencyConverter:\n",
    "    def __init__(\n",
    "        self, currency_src: str, currency_dst: str, exchange_currency_dictionary: Dict\n",
    "    ):\n",
    "        self.currency_src = currency_src\n",
    "        self.currency_dst = currency_dst\n",
    "        self.exchange_currency_dictionary = exchange_currency_dictionary\n",
    "\n",
    "    def convert(self, amount):\n",
    "        converted_amount = self.exchange_ratio * amount\n",
    "        return converted_amount\n",
    "\n",
    "    @property\n",
    "    # @validate_exchange_ratio\n",
    "    def exchange_ratio(self):\n",
    "        ratio = (\n",
    "            self.exchange_currency_dictionary[self.currency_dst]\n",
    "            / self.exchange_currency_dictionary[self.currency_src]\n",
    "        )\n",
    "        return ratio"
   ]
  },
  {
   "cell_type": "code",
   "execution_count": 117,
   "id": "32134005",
   "metadata": {
    "slideshow": {
     "slide_type": "subslide"
    }
   },
   "outputs": [
    {
     "data": {
      "application/javascript": "\n            setTimeout(function() {\n                var nbb_cell_id = 117;\n                var nbb_unformatted_code = \"def validate_exchange_ratio(f):\\n    @functools.wraps(f)\\n    def inner(currency_converter):\\n        for currency in [\\n            currency_converter.currency_src,\\n            currency_converter.currency_dst,\\n        ]:\\n            currency_value = currency_converter.exchange_currency_dictionary.get(\\n                currency, None\\n            )\\n\\n            if currency_value is None:\\n                raise Exception(\\n                    f\\\"Currency {currency} does not exist in the exchange_currency_base\\\"\\n                )\\n\\n            else:\\n                if currency_value == 0:\\n                    raise ValueError(\\n                        f\\\"Currency ({currency}) value in the exchange_currency_base should not be zero\\\"\\n                    )\\n                if currency_value < 0:\\n                    raise ValueError(\\n                        f\\\"Currency ({currency}) value in the exchange_currency_base should not be negative\\\"\\n                    )\\n\\n        return f(currency_converter)\\n\\n    return inner\";\n                var nbb_formatted_code = \"def validate_exchange_ratio(f):\\n    @functools.wraps(f)\\n    def inner(currency_converter):\\n        for currency in [\\n            currency_converter.currency_src,\\n            currency_converter.currency_dst,\\n        ]:\\n            currency_value = currency_converter.exchange_currency_dictionary.get(\\n                currency, None\\n            )\\n\\n            if currency_value is None:\\n                raise Exception(\\n                    f\\\"Currency {currency} does not exist in the exchange_currency_base\\\"\\n                )\\n\\n            else:\\n                if currency_value == 0:\\n                    raise ValueError(\\n                        f\\\"Currency ({currency}) value in the exchange_currency_base should not be zero\\\"\\n                    )\\n                if currency_value < 0:\\n                    raise ValueError(\\n                        f\\\"Currency ({currency}) value in the exchange_currency_base should not be negative\\\"\\n                    )\\n\\n        return f(currency_converter)\\n\\n    return inner\";\n                var nbb_cells = Jupyter.notebook.get_cells();\n                for (var i = 0; i < nbb_cells.length; ++i) {\n                    if (nbb_cells[i].input_prompt_number == nbb_cell_id) {\n                        if (nbb_cells[i].get_text() == nbb_unformatted_code) {\n                             nbb_cells[i].set_text(nbb_formatted_code);\n                        }\n                        break;\n                    }\n                }\n            }, 500);\n            ",
      "text/plain": [
       "<IPython.core.display.Javascript object>"
      ]
     },
     "metadata": {},
     "output_type": "display_data"
    }
   ],
   "source": [
    "def validate_exchange_ratio(f):\n",
    "    @functools.wraps(f)\n",
    "    def inner(currency_converter):\n",
    "        for currency in [\n",
    "            currency_converter.currency_src,\n",
    "            currency_converter.currency_dst,\n",
    "        ]:\n",
    "            currency_value = currency_converter.exchange_currency_dictionary.get(\n",
    "                currency, None\n",
    "            )\n",
    "\n",
    "            if currency_value is None:\n",
    "                raise Exception(\n",
    "                    f\"Currency {currency} does not exist in the exchange_currency_base\"\n",
    "                )\n",
    "\n",
    "            else:\n",
    "                if currency_value == 0:\n",
    "                    raise ValueError(\n",
    "                        f\"Currency ({currency}) value in the exchange_currency_base should not be zero\"\n",
    "                    )\n",
    "                if currency_value < 0:\n",
    "                    raise ValueError(\n",
    "                        f\"Currency ({currency}) value in the exchange_currency_base should not be negative\"\n",
    "                    )\n",
    "\n",
    "        return f(currency_converter)\n",
    "\n",
    "    return inner"
   ]
  },
  {
   "cell_type": "code",
   "execution_count": 118,
   "id": "5e7b09e0",
   "metadata": {
    "slideshow": {
     "slide_type": "subslide"
    }
   },
   "outputs": [
    {
     "data": {
      "application/javascript": "\n            setTimeout(function() {\n                var nbb_cell_id = 118;\n                var nbb_unformatted_code = \"class CurrencyConverter:\\n    def __init__(\\n        self, currency_src: str, currency_dst: str, exchange_currency_dictionary: Dict\\n    ):\\n        self.currency_src = currency_src\\n        self.currency_dst = currency_dst\\n        self.exchange_currency_dictionary = exchange_currency_dictionary\\n\\n    def convert(self, amount):\\n        converted_amount = self.exchange_ratio * amount\\n        return converted_amount\\n\\n    @property\\n    @validate_exchange_ratio\\n    def exchange_ratio(self):\\n        ratio = (\\n            self.exchange_currency_dictionary[self.currency_dst]\\n            / self.exchange_currency_dictionary[self.currency_src]\\n        )\\n        return ratio\";\n                var nbb_formatted_code = \"class CurrencyConverter:\\n    def __init__(\\n        self, currency_src: str, currency_dst: str, exchange_currency_dictionary: Dict\\n    ):\\n        self.currency_src = currency_src\\n        self.currency_dst = currency_dst\\n        self.exchange_currency_dictionary = exchange_currency_dictionary\\n\\n    def convert(self, amount):\\n        converted_amount = self.exchange_ratio * amount\\n        return converted_amount\\n\\n    @property\\n    @validate_exchange_ratio\\n    def exchange_ratio(self):\\n        ratio = (\\n            self.exchange_currency_dictionary[self.currency_dst]\\n            / self.exchange_currency_dictionary[self.currency_src]\\n        )\\n        return ratio\";\n                var nbb_cells = Jupyter.notebook.get_cells();\n                for (var i = 0; i < nbb_cells.length; ++i) {\n                    if (nbb_cells[i].input_prompt_number == nbb_cell_id) {\n                        if (nbb_cells[i].get_text() == nbb_unformatted_code) {\n                             nbb_cells[i].set_text(nbb_formatted_code);\n                        }\n                        break;\n                    }\n                }\n            }, 500);\n            ",
      "text/plain": [
       "<IPython.core.display.Javascript object>"
      ]
     },
     "metadata": {},
     "output_type": "display_data"
    }
   ],
   "source": [
    "class CurrencyConverter:\n",
    "    def __init__(\n",
    "        self, currency_src: str, currency_dst: str, exchange_currency_dictionary: Dict\n",
    "    ):\n",
    "        self.currency_src = currency_src\n",
    "        self.currency_dst = currency_dst\n",
    "        self.exchange_currency_dictionary = exchange_currency_dictionary\n",
    "\n",
    "    def convert(self, amount):\n",
    "        converted_amount = self.exchange_ratio * amount\n",
    "        return converted_amount\n",
    "\n",
    "    @property\n",
    "    @validate_exchange_ratio\n",
    "    def exchange_ratio(self):\n",
    "        ratio = (\n",
    "            self.exchange_currency_dictionary[self.currency_dst]\n",
    "            / self.exchange_currency_dictionary[self.currency_src]\n",
    "        )\n",
    "        return ratio"
   ]
  },
  {
   "cell_type": "code",
   "execution_count": 119,
   "id": "1c7f0b6a",
   "metadata": {
    "slideshow": {
     "slide_type": "subslide"
    }
   },
   "outputs": [
    {
     "data": {
      "application/javascript": "\n            setTimeout(function() {\n                var nbb_cell_id = 119;\n                var nbb_unformatted_code = \"d = {\\\"EUR\\\": 1, \\\"USD\\\": 1.2, \\\"GBP\\\": -0.8, \\\"CAD\\\": 0}\";\n                var nbb_formatted_code = \"d = {\\\"EUR\\\": 1, \\\"USD\\\": 1.2, \\\"GBP\\\": -0.8, \\\"CAD\\\": 0}\";\n                var nbb_cells = Jupyter.notebook.get_cells();\n                for (var i = 0; i < nbb_cells.length; ++i) {\n                    if (nbb_cells[i].input_prompt_number == nbb_cell_id) {\n                        if (nbb_cells[i].get_text() == nbb_unformatted_code) {\n                             nbb_cells[i].set_text(nbb_formatted_code);\n                        }\n                        break;\n                    }\n                }\n            }, 500);\n            ",
      "text/plain": [
       "<IPython.core.display.Javascript object>"
      ]
     },
     "metadata": {},
     "output_type": "display_data"
    }
   ],
   "source": [
    "d = {\"EUR\": 1, \"USD\": 1.2, \"GBP\": -0.8, \"CAD\": 0}"
   ]
  },
  {
   "cell_type": "code",
   "execution_count": 120,
   "id": "9371353b",
   "metadata": {
    "slideshow": {
     "slide_type": "fragment"
    }
   },
   "outputs": [
    {
     "data": {
      "text/plain": [
       "12.0"
      ]
     },
     "execution_count": 120,
     "metadata": {},
     "output_type": "execute_result"
    },
    {
     "data": {
      "application/javascript": "\n            setTimeout(function() {\n                var nbb_cell_id = 120;\n                var nbb_unformatted_code = \"currency_converter = CurrencyConverter(\\n    currency_src=\\\"EUR\\\", currency_dst=\\\"USD\\\", exchange_currency_dictionary=d\\n)\\n\\ncurrency_converter.convert(10)\";\n                var nbb_formatted_code = \"currency_converter = CurrencyConverter(\\n    currency_src=\\\"EUR\\\", currency_dst=\\\"USD\\\", exchange_currency_dictionary=d\\n)\\n\\ncurrency_converter.convert(10)\";\n                var nbb_cells = Jupyter.notebook.get_cells();\n                for (var i = 0; i < nbb_cells.length; ++i) {\n                    if (nbb_cells[i].input_prompt_number == nbb_cell_id) {\n                        if (nbb_cells[i].get_text() == nbb_unformatted_code) {\n                             nbb_cells[i].set_text(nbb_formatted_code);\n                        }\n                        break;\n                    }\n                }\n            }, 500);\n            ",
      "text/plain": [
       "<IPython.core.display.Javascript object>"
      ]
     },
     "metadata": {},
     "output_type": "display_data"
    }
   ],
   "source": [
    "currency_converter = CurrencyConverter(\n",
    "    currency_src=\"EUR\", currency_dst=\"USD\", exchange_currency_dictionary=d\n",
    ")\n",
    "\n",
    "currency_converter.convert(10)"
   ]
  }
 ],
 "metadata": {
  "celltoolbar": "Slideshow",
  "kernelspec": {
   "display_name": "Python 3.6.9 ('caspian')",
   "language": "python",
   "name": "python3"
  },
  "language_info": {
   "codemirror_mode": {
    "name": "ipython",
    "version": 3
   },
   "file_extension": ".py",
   "mimetype": "text/x-python",
   "name": "python",
   "nbconvert_exporter": "python",
   "pygments_lexer": "ipython3",
   "version": "3.10.4"
  },
  "vscode": {
   "interpreter": {
    "hash": "30479b219799a919bef3ec18f8554b4b78d2ba51be8f3fb5e3b666b9f9a2aa99"
   }
  }
 },
 "nbformat": 4,
 "nbformat_minor": 5
}
