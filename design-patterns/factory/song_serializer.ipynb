{
 "cells": [
  {
   "cell_type": "code",
   "execution_count": 1,
   "metadata": {},
   "outputs": [],
   "source": [
    "import json\n",
    "import xml.etree.ElementTree as et"
   ]
  },
  {
   "cell_type": "code",
   "execution_count": 2,
   "metadata": {},
   "outputs": [],
   "source": [
    "class JsonSerializer:\n",
    "    def __init__(self):\n",
    "        self._current_object = None\n",
    "\n",
    "    def start_object(self, object_name, object_id):\n",
    "        self._current_object = {\"id\": object_id}\n",
    "\n",
    "    def add_property(self, name, value):\n",
    "        self._current_object[name] = value\n",
    "\n",
    "    def to_str(self):\n",
    "        return json.dumps(self._current_object)"
   ]
  },
  {
   "cell_type": "code",
   "execution_count": 3,
   "metadata": {},
   "outputs": [],
   "source": [
    "class XmlSerializer:\n",
    "    def __init__(self):\n",
    "        self._element = None\n",
    "\n",
    "    def start_object(self, object_name, object_id):\n",
    "        self._element = et.Element(object_name, attrib={\"id\": object_id})\n",
    "\n",
    "    def add_property(self, name, value):\n",
    "        prop = et.SubElement(self._element, name)\n",
    "        prop.text = value\n",
    "\n",
    "    def to_str(self):\n",
    "        return et.tostring(self._element, encoding=\"unicode\")"
   ]
  },
  {
   "cell_type": "code",
   "execution_count": 4,
   "metadata": {},
   "outputs": [],
   "source": [
    "class Song:\n",
    "    def __init__(self, song_id, title, artist):\n",
    "        self.song_id = song_id\n",
    "        self.title = title\n",
    "        self.artist = artist\n",
    "\n",
    "    def serialize(self, serializer):\n",
    "        serializer.start_object(\"song\", self.song_id)\n",
    "        serializer.add_property(\"title\", self.title)\n",
    "        serializer.add_property(\"artist\", self.artist)"
   ]
  },
  {
   "cell_type": "code",
   "execution_count": 5,
   "metadata": {},
   "outputs": [],
   "source": [
    "class SerializerFactory:\n",
    "    def get_serializer(self, format):\n",
    "        if format == \"JSON\":\n",
    "            return JsonSerializer()\n",
    "        elif format == \"XML\":\n",
    "            return XmlSerializer()\n",
    "        else:\n",
    "            raise ValueError(format)"
   ]
  },
  {
   "cell_type": "code",
   "execution_count": 6,
   "metadata": {},
   "outputs": [],
   "source": [
    "class ObjectSerializer:\n",
    "    def serialize(self, serializable: Song, format):\n",
    "        serializer = factory.get_serializer(\n",
    "            format\n",
    "        )  # pick either JsonSerializer or XMLSerializer\n",
    "        serializable.serialize(serializer)  # apply the serializer to the Song object.\n",
    "        return serializer.to_str()"
   ]
  },
  {
   "cell_type": "code",
   "execution_count": 7,
   "metadata": {},
   "outputs": [],
   "source": [
    "song = Song(\"1\", \"@aterofLove\", \"Dire Straits\")"
   ]
  },
  {
   "cell_type": "code",
   "execution_count": 8,
   "metadata": {},
   "outputs": [
    {
     "data": {
      "text/plain": [
       "'<song id=\"1\"><title>@aterofLove</title><artist>Dire Straits</artist></song>'"
      ]
     },
     "execution_count": 8,
     "metadata": {},
     "output_type": "execute_result"
    }
   ],
   "source": [
    "factory = SerializerFactory()\n",
    "serializer = ObjectSerializer()\n",
    "\n",
    "\n",
    "serializer.serialize(song, \"XML\")"
   ]
  },
  {
   "cell_type": "code",
   "execution_count": 1,
   "metadata": {},
   "outputs": [],
   "source": [
    "import string"
   ]
  },
  {
   "cell_type": "code",
   "execution_count": 34,
   "metadata": {},
   "outputs": [],
   "source": [
    "import re\n",
    "import string\n",
    "\n",
    "\n",
    "class StringConvert:\n",
    "    def __init__(self, string):\n",
    "        self.string = string\n",
    "\n",
    "    def to_lower(self):\n",
    "        self.string = self.string.lower()\n",
    "        return self\n",
    "\n",
    "\n",
    "class StringTokenize:\n",
    "    def __init__(self, string):\n",
    "        self.string = string\n",
    "\n",
    "    def tokenize(self, pattern=\"\\s\"):\n",
    "        return re.split(pattern, self.string)\n",
    "\n",
    "\n",
    "class StringRemove(StringTokenize, StringConvert):\n",
    "    def __init__(self, string):\n",
    "        self.string = string\n",
    "\n",
    "    def remove_something(g):\n",
    "        \"\"\"\n",
    "        Remove the punctuation/digit etc.\n",
    "        There will be NO empty space between when the\n",
    "         punctuation/digits are removed.\n",
    "        \"\"\"\n",
    "\n",
    "        def inner(self, space=False):\n",
    "            if space:\n",
    "                translate = str.maketrans(g(self), \" \" * len(g(self)))\n",
    "            elif space == False:\n",
    "                translate = str.maketrans(\"\", \"\", g(self))\n",
    "            self.string = self.string.translate(translate)\n",
    "            return self\n",
    "\n",
    "        return inner\n",
    "\n",
    "    @remove_something\n",
    "    def remove_digits(self):\n",
    "        return string.digits\n",
    "\n",
    "    @remove_something\n",
    "    def remove_punctuation(self):\n",
    "        return string.punctuation\n",
    "\n",
    "    def remove_outer_space(self):\n",
    "        self.string = self.string.strip()\n",
    "        return self\n",
    "\n",
    "    def remove_inner_space(self):\n",
    "        self.string = \" \".join(self.tokenize(pattern=\"\\s+\"))\n",
    "        return self"
   ]
  },
  {
   "cell_type": "code",
   "execution_count": null,
   "metadata": {},
   "outputs": [],
   "source": []
  }
 ],
 "metadata": {
  "kernelspec": {
   "display_name": "Python 3",
   "language": "python",
   "name": "python3"
  },
  "language_info": {
   "codemirror_mode": {
    "name": "ipython",
    "version": 3
   },
   "file_extension": ".py",
   "mimetype": "text/x-python",
   "name": "python",
   "nbconvert_exporter": "python",
   "pygments_lexer": "ipython3",
   "version": "3.8.3"
  },
  "latex_envs": {
   "LaTeX_envs_menu_present": true,
   "autoclose": false,
   "autocomplete": true,
   "bibliofile": "biblio.bib",
   "cite_by": "apalike",
   "current_citInitial": 1,
   "eqLabelWithNumbers": true,
   "eqNumInitial": 1,
   "hotkeys": {
    "equation": "Ctrl-E",
    "itemize": "Ctrl-I"
   },
   "labels_anchors": false,
   "latex_user_defs": false,
   "report_style_numbering": false,
   "user_envs_cfg": false
  },
  "toc": {
   "base_numbering": 1,
   "nav_menu": {},
   "number_sections": true,
   "sideBar": true,
   "skip_h1_title": false,
   "title_cell": "Table of Contents",
   "title_sidebar": "Contents",
   "toc_cell": false,
   "toc_position": {},
   "toc_section_display": true,
   "toc_window_display": false
  }
 },
 "nbformat": 4,
 "nbformat_minor": 4
}
