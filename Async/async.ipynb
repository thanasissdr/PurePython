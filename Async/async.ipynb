{
 "cells": [
  {
   "cell_type": "code",
   "execution_count": 1,
   "metadata": {},
   "outputs": [],
   "source": [
    "import requests\n",
    "import asyncio\n",
    "\n",
    "import time\n",
    "import functools\n",
    "\n",
    "from aiohttp import ClientSession"
   ]
  },
  {
   "cell_type": "code",
   "execution_count": 2,
   "metadata": {},
   "outputs": [],
   "source": [
    "def timing_async(f):\n",
    "    @functools.wraps(f)\n",
    "    async def inner(*args, **kwargs):\n",
    "        start = time.perf_counter()\n",
    "        val = await f(*args, **kwargs)\n",
    "        end = time.perf_counter()\n",
    "        print(f\"{f.__name__} function took {end-start:.2f} seconds.\")\n",
    "        return val\n",
    "\n",
    "    return inner"
   ]
  },
  {
   "cell_type": "code",
   "execution_count": 3,
   "metadata": {},
   "outputs": [],
   "source": [
    "class BaseQuery:\n",
    "    \n",
    "    def __init__(self, url):\n",
    "        self.url = url\n",
    "    \n",
    "    @timing_async\n",
    "    async def req(self):\n",
    "        print(f'Started request for {self.url}')\n",
    "        async with ClientSession() as session:\n",
    "            response = await session.request(method='GET', url=self.url)\n",
    "            print(f'{self.url} Finished')\n",
    "            return response"
   ]
  },
  {
   "cell_type": "code",
   "execution_count": 4,
   "metadata": {},
   "outputs": [],
   "source": [
    "url1 = 'http://slowwly.robertomurray.co.uk/delay/5000/url/http://www.google.co.uk'\n",
    "url2 = 'http://slowwly.robertomurray.co.uk/delay/1000/url/http://www.google.co.uk'\n"
   ]
  },
  {
   "cell_type": "code",
   "execution_count": 5,
   "metadata": {},
   "outputs": [
    {
     "name": "stdout",
     "output_type": "stream",
     "text": [
      "Started request for http://slowwly.robertomurray.co.uk/delay/5000/url/http://www.google.co.uk\n",
      "Started request for http://slowwly.robertomurray.co.uk/delay/1000/url/http://www.google.co.uk\n",
      "http://slowwly.robertomurray.co.uk/delay/1000/url/http://www.google.co.uk Finished\n",
      "req function took 1.19 seconds.\n",
      "http://slowwly.robertomurray.co.uk/delay/5000/url/http://www.google.co.uk Finished\n",
      "req function took 5.15 seconds.\n"
     ]
    }
   ],
   "source": [
    "async with ClientSession() as session:\n",
    "    await asyncio.gather(BaseQuery(url1).req(), BaseQuery(url2).req())"
   ]
  },
  {
   "cell_type": "code",
   "execution_count": null,
   "metadata": {},
   "outputs": [],
   "source": []
  }
 ],
 "metadata": {
  "kernelspec": {
   "display_name": "Python 3",
   "language": "python",
   "name": "python3"
  },
  "language_info": {
   "codemirror_mode": {
    "name": "ipython",
    "version": 3
   },
   "file_extension": ".py",
   "mimetype": "text/x-python",
   "name": "python",
   "nbconvert_exporter": "python",
   "pygments_lexer": "ipython3",
   "version": "3.8.5"
  },
  "latex_envs": {
   "LaTeX_envs_menu_present": true,
   "autoclose": false,
   "autocomplete": true,
   "bibliofile": "biblio.bib",
   "cite_by": "apalike",
   "current_citInitial": 1,
   "eqLabelWithNumbers": true,
   "eqNumInitial": 1,
   "hotkeys": {
    "equation": "Ctrl-E",
    "itemize": "Ctrl-I"
   },
   "labels_anchors": false,
   "latex_user_defs": false,
   "report_style_numbering": false,
   "user_envs_cfg": false
  },
  "toc": {
   "base_numbering": 1,
   "nav_menu": {},
   "number_sections": true,
   "sideBar": true,
   "skip_h1_title": false,
   "title_cell": "Table of Contents",
   "title_sidebar": "Contents",
   "toc_cell": false,
   "toc_position": {},
   "toc_section_display": true,
   "toc_window_display": false
  }
 },
 "nbformat": 4,
 "nbformat_minor": 4
}
