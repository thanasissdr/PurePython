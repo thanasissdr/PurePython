{
 "cells": [
  {
   "cell_type": "code",
   "execution_count": 1,
   "metadata": {},
   "outputs": [],
   "source": [
    "import dill\n",
    "import functools\n",
    "import pprint as pp\n",
    "import shlex\n",
    "import os\n",
    "import inspect\n",
    "from subprocess import run"
   ]
  },
  {
   "cell_type": "code",
   "execution_count": 102,
   "metadata": {},
   "outputs": [],
   "source": [
    "def memory_profile(f):\n",
    "    def unwrap_source_code(sourcelines):\n",
    "        for idx, i in enumerate(sourcelines[0]):\n",
    "            if i.startswith('def'):\n",
    "                return \"\".join(sourcelines[0][idx:])\n",
    "    @functools.wraps(f)\n",
    "    def inner(*args, **kwargs):\n",
    "        temp = './temp_ram.py'\n",
    "        with open(temp, 'w+') as g:\n",
    "            decorator = '@profile'\n",
    "            sourcelines = inspect.getsourcelines(f)\n",
    "            value = f\"\"\"import argparse\\n\\n{decorator}\\n{unwrap_source_code(sourcelines)}\"\"\"\n",
    "            g.write(value)\n",
    "            g.write('\\n')\n",
    "            # TODO: fix the arguments\n",
    "            # for parsing in case we have *args and **kwargs\n",
    "            main_exec = f\"\"\"if __name__ == \"__main__\":     parser = argparse.ArgumentParser();    parser.add_argument('--N', required=True);    args = parser.parse_args();    {f.__name__}(args.N)\n",
    "                    \"\"\"\n",
    "            g.write(main_exec)\n",
    "            \n",
    "        cmd = shlex.split(f'python -m memory_profiler {temp} --N 10')\n",
    "        mem_stats = run(cmd, capture_output=True).stdout.decode('utf-8')\n",
    "        os.remove(temp)\n",
    "        print(mem_stats)\n",
    "        return f(*args, **kwargs)\n",
    "    return inner\n",
    "    \n",
    "    \n",
    "    \n",
    "def timing(f):\n",
    "    import time\n",
    "    @functools.wraps(f)\n",
    "    def inner(*args, **kwargs):\n",
    "        start = time.perf_counter()\n",
    "        value = f(*args, **kwargs)\n",
    "        end = time.perf_counter()\n",
    "        print(f\"Finished {f.__name__} in {end - start:.4f} seconds.\")\n",
    "        return value\n",
    "    return inner"
   ]
  },
  {
   "cell_type": "code",
   "execution_count": 103,
   "metadata": {},
   "outputs": [
    {
     "name": "stdout",
     "output_type": "stream",
     "text": [
      "Filename: ./temp_ram.py\r\n",
      "\r\n",
      "Line #    Mem usage    Increment   Line Contents\r\n",
      "================================================\r\n",
      "     3   40.195 MiB   40.195 MiB   @profile\r\n",
      "     4                             def QWERTY(x):\r\n",
      "     5   40.195 MiB    0.000 MiB       res = []\r\n",
      "     6   40.199 MiB    0.004 MiB       for i in range(x):\r\n",
      "     7                                     res.append(i)\r\n",
      "     8                                 return res\r\n",
      "\r\n",
      "\r\n",
      "\n",
      "Finished QWERTY in 0.0000 seconds.\n",
      "[0, 1, 2, 3, 4, 5, 6, 7, 8, 9]\n"
     ]
    }
   ],
   "source": [
    "@memory_profile\n",
    "@timing\n",
    "def QWERTY(x):\n",
    "    res = []\n",
    "    for i in range(x):\n",
    "        res.append(i)\n",
    "    return res\n",
    "\n",
    "\n",
    "print(QWERTY(10))"
   ]
  },
  {
   "cell_type": "code",
   "execution_count": null,
   "metadata": {},
   "outputs": [],
   "source": []
  }
 ],
 "metadata": {
  "kernelspec": {
   "display_name": "Python 3",
   "language": "python",
   "name": "python3"
  },
  "language_info": {
   "codemirror_mode": {
    "name": "ipython",
    "version": 3
   },
   "file_extension": ".py",
   "mimetype": "text/x-python",
   "name": "python",
   "nbconvert_exporter": "python",
   "pygments_lexer": "ipython3",
   "version": "3.8.2"
  }
 },
 "nbformat": 4,
 "nbformat_minor": 4
}
