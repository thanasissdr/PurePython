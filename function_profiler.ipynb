{
 "cells": [
  {
   "cell_type": "code",
   "execution_count": 5,
   "metadata": {},
   "outputs": [],
   "source": [
    "import functools\n",
    "import pprint as pp\n",
    "import shlex\n",
    "import os\n",
    "import inspect\n",
    "from subprocess import run"
   ]
  },
  {
   "cell_type": "code",
   "execution_count": 99,
   "metadata": {},
   "outputs": [],
   "source": [
    "def memory_profile(f):\n",
    "    @functools.wraps(f)\n",
    "    def inner(*args, **kwargs):\n",
    "        \n",
    "        def unwrap_source_code(g):\n",
    "            sourcelines = inspect.getsourcelines(g)\n",
    "            for idx, i in enumerate(sourcelines[0]):\n",
    "                if i.startswith('def'):\n",
    "                    return \"\".join(sourcelines[0][idx:])\n",
    "            \n",
    "        temp = './temp_ram.py'\n",
    "        with open(temp, 'w+') as g:\n",
    "            decorator = '@profile'\n",
    "            sourcelines = inspect.getsourcelines(f)\n",
    "            value = f\"\"\"import argparse\\nimport sys\\nimport json\\n\\n\\n{decorator}\\n{unwrap_source_code(f)}\"\"\"\n",
    "            g.write(value)\n",
    "            g.write('\\n')\n",
    "          \n",
    "            main_exec = f\"\"\"if __name__ == \"__main__\":     \n",
    "    parser = argparse.ArgumentParser()\n",
    "    parser.add_argument('-dummy_pos', nargs='*')\n",
    "    parser.add_argument('--dummy_optional', nargs=\"?\")    \n",
    "    args = parser.parse_args()\n",
    "\n",
    "    star_args = args.dummy_pos\n",
    "    optional_args = args.dummy_optional\n",
    "\n",
    "    if optional_args:\n",
    "        optional_args = optional_args.replace(\"\\'\", '\"')\n",
    "        optional_args = json.loads(json.loads(json.dumps(optional_args)))\n",
    "    else:\n",
    "        optional_args = {{}}  \n",
    "    \n",
    "    {f.__name__}(*star_args, **optional_args)\n",
    "                    \"\"\"\n",
    "            g.write(main_exec)\n",
    "            \n",
    "        cmd = f'python -m memory_profiler {temp}'\n",
    "        if args:\n",
    "            args_split = [f'\"{str(i)}\"' for i in args]\n",
    "            second_split =  \"-dummy_pos\" + \" \" + \" \".join(args_split)\n",
    "           \n",
    "            cmd = cmd + \" \" + second_split\n",
    "        \n",
    "        if kwargs:\n",
    "            cmd = cmd + \" \" + '--dummy_optional' + \" \" + \" \".join([f'\"{ {k : str(v) for k, v in kwargs.items()} }\"'])\n",
    "        \n",
    "        print(cmd)\n",
    "        mem_stats = run(cmd, capture_output=True).stdout.decode('utf-8')\n",
    "        \n",
    "       \n",
    "        # TODO: We might want to have also \n",
    "        # a `debug` argument, where we don't delete\n",
    "        # the temporary file.\n",
    "        \n",
    "        #os.remove(temp)\n",
    "        print(mem_stats)\n",
    "        return f(*args, **kwargs)\n",
    "    return inner\n",
    "    \n",
    "    \n",
    "    \n",
    "def timing(f):\n",
    "    import time\n",
    "    @functools.wraps(f)\n",
    "    def inner(*args, **kwargs):\n",
    "        start = time.perf_counter()\n",
    "        value = f(*args, **kwargs)\n",
    "        end = time.perf_counter()\n",
    "        print(f\"Finished {f.__name__} in {end - start:.4f} seconds.\")\n",
    "        return value\n",
    "    return inner\n",
    "\n",
    "\n",
    "    \n"
   ]
  },
  {
   "cell_type": "code",
   "execution_count": 98,
   "metadata": {},
   "outputs": [
    {
     "name": "stdout",
     "output_type": "stream",
     "text": [
      "python -m memory_profiler ./temp_ram.py -dummy_pos \"0\" \"1\"\n",
      "Filename: ./temp_ram.py\n",
      "\n",
      "Line #    Mem usage    Increment   Line Contents\n",
      "================================================\n",
      "     6   40.078 MiB   40.078 MiB   @profile\n",
      "     7                             def custom(x, y):\n",
      "     8   75.863 MiB   35.785 MiB       import sklearn\n",
      "     9   79.555 MiB    3.691 MiB       import matplotlib\n",
      "    10   79.555 MiB    0.000 MiB       import sklearn\n",
      "\n",
      "\n",
      "\n",
      "Finished custom in 4.2404 seconds.\n"
     ]
    }
   ],
   "source": [
    "@timing\n",
    "@memory_profile\n",
    "def custom(x, y):\n",
    "    import sklearn\n",
    "    import matplotlib\n",
    "    import sklearn\n",
    "\n",
    "\n",
    "custom(0, 1);\n",
    "\n"
   ]
  },
  {
   "cell_type": "code",
   "execution_count": null,
   "metadata": {},
   "outputs": [],
   "source": []
  }
 ],
 "metadata": {
  "kernelspec": {
   "display_name": "Python 3",
   "language": "python",
   "name": "python3"
  },
  "language_info": {
   "codemirror_mode": {
    "name": "ipython",
    "version": 3
   },
   "file_extension": ".py",
   "mimetype": "text/x-python",
   "name": "python",
   "nbconvert_exporter": "python",
   "pygments_lexer": "ipython3",
   "version": "3.8.2"
  },
  "latex_envs": {
   "LaTeX_envs_menu_present": true,
   "autoclose": false,
   "autocomplete": true,
   "bibliofile": "biblio.bib",
   "cite_by": "apalike",
   "current_citInitial": 1,
   "eqLabelWithNumbers": true,
   "eqNumInitial": 1,
   "hotkeys": {
    "equation": "Ctrl-E",
    "itemize": "Ctrl-I"
   },
   "labels_anchors": false,
   "latex_user_defs": false,
   "report_style_numbering": false,
   "user_envs_cfg": false
  },
  "toc": {
   "base_numbering": 1,
   "nav_menu": {},
   "number_sections": true,
   "sideBar": true,
   "skip_h1_title": false,
   "title_cell": "Table of Contents",
   "title_sidebar": "Contents",
   "toc_cell": false,
   "toc_position": {},
   "toc_section_display": true,
   "toc_window_display": false
  }
 },
 "nbformat": 4,
 "nbformat_minor": 4
}
