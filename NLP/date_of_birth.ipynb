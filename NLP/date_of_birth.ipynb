{
 "cells": [
  {
   "cell_type": "code",
   "execution_count": 3,
   "metadata": {},
   "outputs": [],
   "source": [
    "import datetime as dt\n",
    "import numpy as np\n",
    "import pandas as pd\n",
    "import random\n",
    "\n",
    "from fuzzywuzzy import fuzz"
   ]
  },
  {
   "cell_type": "code",
   "execution_count": 1,
   "metadata": {},
   "outputs": [],
   "source": [
    "M = 100 # number of generated examples"
   ]
  },
  {
   "cell_type": "code",
   "execution_count": 4,
   "metadata": {},
   "outputs": [],
   "source": [
    "np.random.seed(1)\n",
    "\n",
    "DATES = pd.date_range(start='01-01-2020', end='31-12-2020', periods=M)\n",
    "DATES = list(map(lambda x: dt.datetime.strftime(x, format='%B %d, %Y'), DATES)) # Change the format\n",
    "DATES = np.random.permutation(DATES) # Generate a permutation"
   ]
  },
  {
   "cell_type": "code",
   "execution_count": 5,
   "metadata": {},
   "outputs": [
    {
     "data": {
      "text/plain": [
       "array(['October 21, 2020', 'November 05, 2020', 'May 01, 2020',\n",
       "       'October 25, 2020', 'December 08, 2020', 'March 03, 2020',\n",
       "       'May 12, 2020', 'October 29, 2020', 'September 11, 2020',\n",
       "       'August 27, 2020', 'December 05, 2020', 'May 23, 2020',\n",
       "       'July 25, 2020', 'July 10, 2020', 'July 07, 2020',\n",
       "       'April 27, 2020', 'April 24, 2020', 'June 11, 2020',\n",
       "       'October 14, 2020', 'February 06, 2020', 'January 08, 2020',\n",
       "       'September 26, 2020', 'December 23, 2020', 'August 16, 2020',\n",
       "       'March 11, 2020', 'May 09, 2020', 'December 12, 2020',\n",
       "       'April 09, 2020', 'June 18, 2020', 'May 20, 2020',\n",
       "       'September 04, 2020', 'December 31, 2020', 'July 18, 2020',\n",
       "       'December 16, 2020', 'November 20, 2020', 'May 27, 2020',\n",
       "       'June 25, 2020', 'August 05, 2020', 'March 25, 2020',\n",
       "       'May 05, 2020', 'November 13, 2020', 'July 14, 2020',\n",
       "       'October 10, 2020', 'February 25, 2020', 'November 02, 2020',\n",
       "       'May 31, 2020', 'June 14, 2020', 'December 01, 2020',\n",
       "       'April 05, 2020', 'December 27, 2020', 'June 07, 2020',\n",
       "       'July 21, 2020', 'March 29, 2020', 'January 15, 2020',\n",
       "       'August 01, 2020', 'June 29, 2020', 'March 18, 2020',\n",
       "       'November 16, 2020', 'January 12, 2020', 'September 29, 2020',\n",
       "       'April 20, 2020', 'August 31, 2020', 'September 15, 2020',\n",
       "       'June 03, 2020', 'June 22, 2020', 'November 24, 2020',\n",
       "       'January 30, 2020', 'August 09, 2020', 'January 01, 2020',\n",
       "       'November 27, 2020', 'July 29, 2020', 'March 22, 2020',\n",
       "       'August 12, 2020', 'August 20, 2020', 'January 26, 2020',\n",
       "       'December 19, 2020', 'February 17, 2020', 'September 07, 2020',\n",
       "       'November 09, 2020', 'February 21, 2020', 'April 16, 2020',\n",
       "       'April 13, 2020', 'February 10, 2020', 'March 07, 2020',\n",
       "       'March 14, 2020', 'July 03, 2020', 'April 02, 2020',\n",
       "       'January 23, 2020', 'September 18, 2020', 'October 07, 2020',\n",
       "       'January 04, 2020', 'February 28, 2020', 'August 23, 2020',\n",
       "       'October 18, 2020', 'January 19, 2020', 'October 03, 2020',\n",
       "       'February 03, 2020', 'September 22, 2020', 'February 14, 2020',\n",
       "       'May 16, 2020'], dtype='<U18')"
      ]
     },
     "execution_count": 5,
     "metadata": {},
     "output_type": "execute_result"
    }
   ],
   "source": [
    "DATES"
   ]
  },
  {
   "cell_type": "code",
   "execution_count": 30,
   "metadata": {},
   "outputs": [
    {
     "data": {
      "text/plain": [
       "100"
      ]
     },
     "execution_count": 30,
     "metadata": {},
     "output_type": "execute_result"
    }
   ],
   "source": [
    "fuzz.token_set_ratio('March 21, 2021', '21 March 2021')"
   ]
  },
  {
   "cell_type": "code",
   "execution_count": null,
   "metadata": {},
   "outputs": [],
   "source": [
    "def date_sim"
   ]
  }
 ],
 "metadata": {
  "kernelspec": {
   "display_name": "Python 3",
   "language": "python",
   "name": "python3"
  },
  "language_info": {
   "codemirror_mode": {
    "name": "ipython",
    "version": 3
   },
   "file_extension": ".py",
   "mimetype": "text/x-python",
   "name": "python",
   "nbconvert_exporter": "python",
   "pygments_lexer": "ipython3",
   "version": "3.8.3"
  },
  "latex_envs": {
   "LaTeX_envs_menu_present": true,
   "autoclose": false,
   "autocomplete": true,
   "bibliofile": "biblio.bib",
   "cite_by": "apalike",
   "current_citInitial": 1,
   "eqLabelWithNumbers": true,
   "eqNumInitial": 1,
   "hotkeys": {
    "equation": "Ctrl-E",
    "itemize": "Ctrl-I"
   },
   "labels_anchors": false,
   "latex_user_defs": false,
   "report_style_numbering": false,
   "user_envs_cfg": false
  },
  "toc": {
   "base_numbering": 1,
   "nav_menu": {},
   "number_sections": true,
   "sideBar": true,
   "skip_h1_title": false,
   "title_cell": "Table of Contents",
   "title_sidebar": "Contents",
   "toc_cell": false,
   "toc_position": {},
   "toc_section_display": true,
   "toc_window_display": false
  }
 },
 "nbformat": 4,
 "nbformat_minor": 4
}
