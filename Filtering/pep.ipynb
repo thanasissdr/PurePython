{
 "cells": [
  {
   "cell_type": "code",
   "execution_count": 1,
   "metadata": {},
   "outputs": [],
   "source": [
    "import datetime as dt\n",
    "import numpy as np\n",
    "import pandas as pd\n",
    "import random\n",
    "\n",
    "from fuzzywuzzy import fuzz"
   ]
  },
  {
   "cell_type": "markdown",
   "metadata": {},
   "source": [
    "# Create Data"
   ]
  },
  {
   "cell_type": "code",
   "execution_count": 2,
   "metadata": {},
   "outputs": [],
   "source": [
    "M = 100 # number of generated examples"
   ]
  },
  {
   "cell_type": "markdown",
   "metadata": {},
   "source": [
    "## Set dates\n"
   ]
  },
  {
   "cell_type": "code",
   "execution_count": 3,
   "metadata": {},
   "outputs": [],
   "source": [
    "np.random.seed(1)\n",
    "\n",
    "DATES = pd.date_range(start='01-01-2020', end='31-12-2020', periods=M)\n",
    "DATES = list(map(lambda x: dt.datetime.strftime(x, format='%B %d, %Y'), DATES)) # Change the format\n",
    "DATES = np.random.permutation(DATES) # Generate a permutation"
   ]
  },
  {
   "cell_type": "markdown",
   "metadata": {},
   "source": [
    "## Set Names"
   ]
  },
  {
   "cell_type": "code",
   "execution_count": 4,
   "metadata": {},
   "outputs": [],
   "source": [
    "import names\n",
    "NAMES = [names.get_full_name() for _ in range(M)]"
   ]
  },
  {
   "cell_type": "markdown",
   "metadata": {},
   "source": [
    "## Set address"
   ]
  },
  {
   "cell_type": "markdown",
   "metadata": {},
   "source": [
    "## Create dataframe"
   ]
  },
  {
   "cell_type": "code",
   "execution_count": 5,
   "metadata": {},
   "outputs": [
    {
     "data": {
      "text/html": [
       "<div>\n",
       "<style scoped>\n",
       "    .dataframe tbody tr th:only-of-type {\n",
       "        vertical-align: middle;\n",
       "    }\n",
       "\n",
       "    .dataframe tbody tr th {\n",
       "        vertical-align: top;\n",
       "    }\n",
       "\n",
       "    .dataframe thead th {\n",
       "        text-align: right;\n",
       "    }\n",
       "</style>\n",
       "<table border=\"1\" class=\"dataframe\">\n",
       "  <thead>\n",
       "    <tr style=\"text-align: right;\">\n",
       "      <th></th>\n",
       "      <th>Name</th>\n",
       "      <th>DOB</th>\n",
       "    </tr>\n",
       "  </thead>\n",
       "  <tbody>\n",
       "    <tr>\n",
       "      <th>0</th>\n",
       "      <td>Thomas Maeda</td>\n",
       "      <td>October 21, 2020</td>\n",
       "    </tr>\n",
       "    <tr>\n",
       "      <th>1</th>\n",
       "      <td>Anthony Loud</td>\n",
       "      <td>November 05, 2020</td>\n",
       "    </tr>\n",
       "    <tr>\n",
       "      <th>2</th>\n",
       "      <td>Mary Stewart</td>\n",
       "      <td>May 01, 2020</td>\n",
       "    </tr>\n",
       "    <tr>\n",
       "      <th>3</th>\n",
       "      <td>John Barrera</td>\n",
       "      <td>October 25, 2020</td>\n",
       "    </tr>\n",
       "    <tr>\n",
       "      <th>4</th>\n",
       "      <td>Leonard Freeman</td>\n",
       "      <td>December 08, 2020</td>\n",
       "    </tr>\n",
       "    <tr>\n",
       "      <th>5</th>\n",
       "      <td>Amy Mcknight</td>\n",
       "      <td>March 03, 2020</td>\n",
       "    </tr>\n",
       "    <tr>\n",
       "      <th>6</th>\n",
       "      <td>Salvatore Lott</td>\n",
       "      <td>May 12, 2020</td>\n",
       "    </tr>\n",
       "    <tr>\n",
       "      <th>7</th>\n",
       "      <td>Leone Guy</td>\n",
       "      <td>October 29, 2020</td>\n",
       "    </tr>\n",
       "    <tr>\n",
       "      <th>8</th>\n",
       "      <td>Mary Trollinger</td>\n",
       "      <td>September 11, 2020</td>\n",
       "    </tr>\n",
       "    <tr>\n",
       "      <th>9</th>\n",
       "      <td>Eduardo Jones</td>\n",
       "      <td>August 27, 2020</td>\n",
       "    </tr>\n",
       "  </tbody>\n",
       "</table>\n",
       "</div>"
      ],
      "text/plain": [
       "              Name                 DOB\n",
       "0     Thomas Maeda    October 21, 2020\n",
       "1     Anthony Loud   November 05, 2020\n",
       "2     Mary Stewart        May 01, 2020\n",
       "3     John Barrera    October 25, 2020\n",
       "4  Leonard Freeman   December 08, 2020\n",
       "5     Amy Mcknight      March 03, 2020\n",
       "6   Salvatore Lott        May 12, 2020\n",
       "7        Leone Guy    October 29, 2020\n",
       "8  Mary Trollinger  September 11, 2020\n",
       "9    Eduardo Jones     August 27, 2020"
      ]
     },
     "execution_count": 5,
     "metadata": {},
     "output_type": "execute_result"
    }
   ],
   "source": [
    "df = pd.DataFrame({\n",
    "    'Name': NAMES,\n",
    "    'DOB': DATES\n",
    "})\n",
    "\n",
    "df.head(10)\n",
    "\n"
   ]
  },
  {
   "cell_type": "markdown",
   "metadata": {},
   "source": [
    "# Search"
   ]
  },
  {
   "cell_type": "code",
   "execution_count": 45,
   "metadata": {},
   "outputs": [],
   "source": [
    "SEARCH_NAME = 'Salvato Lot'\n",
    "SEARCH_DATE = 'May 12, 2020'\n",
    "\n",
    "\n",
    "FUZZY_THRESHOLD = 80\n"
   ]
  },
  {
   "cell_type": "code",
   "execution_count": 248,
   "metadata": {},
   "outputs": [
    {
     "data": {
      "text/plain": [
       "0.3076923076923077"
      ]
     },
     "execution_count": 248,
     "metadata": {},
     "output_type": "execute_result"
    }
   ],
   "source": [
    "def sequence_match(a, b):\n",
    "    seq = difflib.SequenceMatcher(None, a, b)\n",
    "    d = seq.ratio()\n",
    "    return d\n",
    "\n",
    "sequence_match('10 Boverton Road', '10 Rawling')"
   ]
  },
  {
   "cell_type": "code",
   "execution_count": 448,
   "metadata": {},
   "outputs": [],
   "source": [
    "def name_sim(doc_name, search_name):\n",
    "    return fuzz.token_set_ratio(doc_name, search_name) / 100\n",
    "\n",
    "\n",
    "def address_sim(doc_address, search_address):\n",
    "    if doc_address == search_address:\n",
    "        return 1.\n",
    "    elif (not doc_address and search_address) or (not search_address and doc_address):\n",
    "        return 1\n",
    "    else:\n",
    "        return fuzz.partial_ratio(doc_address, search_address) / 100\n",
    "\n",
    "\n",
    "def dob_sim(doc_birth, search_birth):\n",
    "    if search_birth == doc_birth:\n",
    "        return 1\n",
    "    if (not search_birth and doc_birth) or (not doc_birth and search_birth):\n",
    "        return 1\n",
    "    else:\n",
    "        return 0\n",
    "        \n",
    "    "
   ]
  },
  {
   "cell_type": "code",
   "execution_count": 449,
   "metadata": {},
   "outputs": [
    {
     "data": {
      "text/plain": [
       "1.0"
      ]
     },
     "execution_count": 449,
     "metadata": {},
     "output_type": "execute_result"
    }
   ],
   "source": [
    "# We need to have some hierarchy when we compare addresses.\n",
    "\n",
    "\n",
    "def metric(SEARCH, DOC):\n",
    "    name_sim_weight = 1\n",
    "    address_sim_weight = 1\n",
    "    \n",
    "    sum_weights = sum([name_sim_weight, address_sim_weight])\n",
    "    \n",
    "    m = ((name_sim_weight * name_sim(SEARCH.get('name'), DOC.get('name')) +\n",
    "           address_sim_weight * address_sim(SEARCH.get('address'), DOC.get('address')))\n",
    "         / sum_weights) * dob_sim(SEARCH.get('dob'), DOC.get('dob'))\n",
    "\n",
    "    return m\n",
    "\n",
    "\n",
    "metric(SEARCH, DOC)"
   ]
  },
  {
   "cell_type": "code",
   "execution_count": 450,
   "metadata": {},
   "outputs": [],
   "source": [
    "def metric2(SEARCH, DOC):\n",
    "    name_sim_weight = 0.9\n",
    "    address_sim_weight = 0.1\n",
    "    \n",
    "    sum_weights = sum([name_sim_weight, address_sim_weight])\n",
    "    \n",
    "    name_similarity = name_sim(SEARCH.get('name'), DOC.get('name'))\n",
    "    dob_similarity = dob_sim(SEARCH.get('dob'), DOC.get('dob'))\n",
    "    address_similarity = address_sim(SEARCH.get('address'), DOC.get('address'))\n",
    "    \n",
    "    m = name_sim_weight * (name_similarity * dob_similarity) + address_sim_weight * address_similarity \n",
    "    return m"
   ]
  },
  {
   "cell_type": "code",
   "execution_count": 537,
   "metadata": {},
   "outputs": [],
   "source": [
    "def metric3(SEARCH, DOC):\n",
    "    name_sim_weight = 0.9\n",
    "    address_sim_weight = 0.1\n",
    "    \n",
    "    sum_weights = sum([name_sim_weight, address_sim_weight])\n",
    "    \n",
    "    name_similarity = name_sim(SEARCH.get('name'), DOC.get('name'))\n",
    "    dob_similarity = dob_sim(SEARCH.get('dob'), DOC.get('dob'))\n",
    "    address_similarity = address_sim(SEARCH.get('address'), DOC.get('address'))\n",
    "    \n",
    "    m = 0.75 * name_similarity * dob_similarity + 0.25  * name_similarity * address_similarity\n",
    "    return m"
   ]
  },
  {
   "cell_type": "code",
   "execution_count": 563,
   "metadata": {},
   "outputs": [
    {
     "data": {
      "text/plain": [
       "0.825"
      ]
     },
     "metadata": {},
     "output_type": "display_data"
    },
    {
     "data": {
      "text/plain": [
       "0.9650000000000001"
      ]
     },
     "metadata": {},
     "output_type": "display_data"
    },
    {
     "data": {
      "text/plain": [
       "0.9125"
      ]
     },
     "metadata": {},
     "output_type": "display_data"
    }
   ],
   "source": [
    "# We need to have some hierarchy when we compare addresses.\n",
    "\n",
    "SEARCH = {\n",
    "    'name': 'Andy Dolores',\n",
    "    'dob': 1251, \n",
    "    'address': '10 Boverton Road, Bristol'\n",
    "}\n",
    "\n",
    "DOC = {'name': 'Andy Dolores',\n",
    "       'dob': None, \n",
    "       'address': '10 Rawling Road Bristol'\n",
    "      }\n",
    "\n",
    "display(metric(SEARCH, DOC))\n",
    "display(metric2(SEARCH, DOC))\n",
    "display(metric3(SEARCH, DOC))"
   ]
  },
  {
   "cell_type": "code",
   "execution_count": 559,
   "metadata": {},
   "outputs": [
    {
     "data": {
      "text/plain": [
       "0.73"
      ]
     },
     "execution_count": 559,
     "metadata": {},
     "output_type": "execute_result"
    }
   ],
   "source": [
    "address_sim('10 Boverton Road', '10 Bristol Road')"
   ]
  },
  {
   "cell_type": "code",
   "execution_count": null,
   "metadata": {},
   "outputs": [],
   "source": []
  }
 ],
 "metadata": {
  "kernelspec": {
   "display_name": "Python 3",
   "language": "python",
   "name": "python3"
  },
  "language_info": {
   "codemirror_mode": {
    "name": "ipython",
    "version": 3
   },
   "file_extension": ".py",
   "mimetype": "text/x-python",
   "name": "python",
   "nbconvert_exporter": "python",
   "pygments_lexer": "ipython3",
   "version": "3.8.3"
  },
  "latex_envs": {
   "LaTeX_envs_menu_present": true,
   "autoclose": false,
   "autocomplete": true,
   "bibliofile": "biblio.bib",
   "cite_by": "apalike",
   "current_citInitial": 1,
   "eqLabelWithNumbers": true,
   "eqNumInitial": 1,
   "hotkeys": {
    "equation": "Ctrl-E",
    "itemize": "Ctrl-I"
   },
   "labels_anchors": false,
   "latex_user_defs": false,
   "report_style_numbering": false,
   "user_envs_cfg": false
  },
  "toc": {
   "base_numbering": 1,
   "nav_menu": {},
   "number_sections": true,
   "sideBar": true,
   "skip_h1_title": false,
   "title_cell": "Table of Contents",
   "title_sidebar": "Contents",
   "toc_cell": false,
   "toc_position": {
    "height": "calc(100% - 180px)",
    "left": "10px",
    "top": "150px",
    "width": "349.091px"
   },
   "toc_section_display": true,
   "toc_window_display": true
  }
 },
 "nbformat": 4,
 "nbformat_minor": 4
}
