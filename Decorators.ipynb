{
 "cells": [
  {
   "cell_type": "code",
   "execution_count": 1,
   "metadata": {},
   "outputs": [],
   "source": [
    "import functools\n",
    "import time"
   ]
  },
  {
   "cell_type": "markdown",
   "metadata": {},
   "source": [
    "# Decorators"
   ]
  },
  {
   "cell_type": "markdown",
   "metadata": {},
   "source": [
    "## @Classmethod\n",
    "\n",
    "This is mainly used as a constructor. In the following example, let's say that we have a class whhere every instance is instantiated providing a year, a month and a day. \n",
    "\n",
    "However, if we get a string as a date, we want to create an object providing a year, month and a date. This is why we use the classmethod."
   ]
  },
  {
   "cell_type": "code",
   "execution_count": 2,
   "metadata": {},
   "outputs": [],
   "source": [
    "class Date:\n",
    "    \n",
    "    def __init__(self, year, month, day):\n",
    "        self.year = year\n",
    "        self.month = month\n",
    "        self.day = day\n",
    "        \n",
    "    @classmethod\n",
    "    def from_string(cls, string_date):\n",
    "        year, month, day = string_date.split('-')\n",
    "        return cls(year, month, day)"
   ]
  },
  {
   "cell_type": "code",
   "execution_count": 3,
   "metadata": {},
   "outputs": [
    {
     "data": {
      "text/plain": [
       "'2018'"
      ]
     },
     "metadata": {},
     "output_type": "display_data"
    },
    {
     "data": {
      "text/plain": [
       "'Oct'"
      ]
     },
     "metadata": {},
     "output_type": "display_data"
    },
    {
     "data": {
      "text/plain": [
       "'28'"
      ]
     },
     "metadata": {},
     "output_type": "display_data"
    }
   ],
   "source": [
    "start_date = '2018-Oct-28'\n",
    "\n",
    "a = Date.from_string(start_date)\n",
    "\n",
    "display(a.year)\n",
    "display(a.month)\n",
    "display(a.day)"
   ]
  },
  {
   "cell_type": "markdown",
   "metadata": {},
   "source": [
    "## @Property\n",
    "\n",
    "This is potentially a good thing if we want to refactor our code, by turning functions into attributes."
   ]
  },
  {
   "cell_type": "code",
   "execution_count": 3,
   "metadata": {},
   "outputs": [],
   "source": [
    "class Temperature:\n",
    "    \n",
    "    def __init__(self, temp):\n",
    "        self._temperature = temp\n",
    "        \n",
    "        \n",
    "    def to_kelvin(self):\n",
    "        return self.temperature - 273\n",
    "    \n",
    "    \n",
    "    @property\n",
    "    def temperature(self):\n",
    "        print(\"Get temperature\")\n",
    "        return self._temperature\n",
    "    \n",
    "    @temperature.setter\n",
    "    def temperature(self, value):\n",
    "        print(\"Set temperature\")\n",
    "        self._temperature = value"
   ]
  },
  {
   "cell_type": "code",
   "execution_count": 4,
   "metadata": {},
   "outputs": [
    {
     "name": "stdout",
     "output_type": "stream",
     "text": [
      "Get temperature\n"
     ]
    },
    {
     "data": {
      "text/plain": [
       "20"
      ]
     },
     "metadata": {},
     "output_type": "display_data"
    },
    {
     "name": "stdout",
     "output_type": "stream",
     "text": [
      "-----------\n",
      "Set temperature\n",
      "-----------\n",
      "Get temperature\n"
     ]
    },
    {
     "data": {
      "text/plain": [
       "100"
      ]
     },
     "metadata": {},
     "output_type": "display_data"
    }
   ],
   "source": [
    "a = Temperature(20)\n",
    "\n",
    "display(a.temperature)\n",
    "\n",
    "print('-----------')\n",
    "a.temperature = 100\n",
    "print('-----------')\n",
    "display(a.temperature)"
   ]
  },
  {
   "cell_type": "markdown",
   "metadata": {},
   "source": [
    "## Custom decorators"
   ]
  },
  {
   "cell_type": "code",
   "execution_count": 69,
   "metadata": {},
   "outputs": [
    {
     "data": {
      "text/plain": [
       "120"
      ]
     },
     "execution_count": 69,
     "metadata": {},
     "output_type": "execute_result"
    }
   ],
   "source": [
    "def complex_function(f):\n",
    "    def inner(x, y):\n",
    "        return f(x) + y\n",
    "    return inner\n",
    "\n",
    "# Without decorating\n",
    "def simple(x):\n",
    "    \"\"\"Return x squared\"\"\"\n",
    "    return x**2\n",
    "\n",
    "complex_function(simple)(10, 20)"
   ]
  },
  {
   "cell_type": "code",
   "execution_count": 67,
   "metadata": {},
   "outputs": [
    {
     "data": {
      "text/plain": [
       "120"
      ]
     },
     "execution_count": 67,
     "metadata": {},
     "output_type": "execute_result"
    }
   ],
   "source": [
    "# Syntactic sugar\n",
    "\n",
    "@complex_function\n",
    "def simple(x):\n",
    "    \"\"\"Return x squared\"\"\"\n",
    "    return x**2\n",
    "\n",
    "simple(10, 20) # When we call the `simple` function, we need to provide two arguments as in the inner function."
   ]
  },
  {
   "cell_type": "code",
   "execution_count": 68,
   "metadata": {},
   "outputs": [
    {
     "name": "stdout",
     "output_type": "stream",
     "text": [
      "Help on function simple in module __main__:\n",
      "\n",
      "simple(x)\n",
      "    Return x squared\n",
      "\n"
     ]
    }
   ],
   "source": [
    "help(simple)"
   ]
  },
  {
   "cell_type": "code",
   "execution_count": 66,
   "metadata": {},
   "outputs": [
    {
     "data": {
      "text/plain": [
       "120"
      ]
     },
     "execution_count": 66,
     "metadata": {},
     "output_type": "execute_result"
    }
   ],
   "source": [
    "def complex_function(f):\n",
    "    @functools.wraps(f)\n",
    "    def inner(x, y):\n",
    "        return f(x) + y\n",
    "    return inner\n",
    "\n",
    "# Syntactic sugar\n",
    "\n",
    "@complex_function\n",
    "def simple(x):\n",
    "    \"\"\"Return x squared\"\"\"\n",
    "    return x**2\n",
    "\n",
    "simple(10, 20) # When we call the `simple` function, we need to provide two arguments as in the inner function."
   ]
  },
  {
   "cell_type": "code",
   "execution_count": 71,
   "metadata": {},
   "outputs": [
    {
     "name": "stdout",
     "output_type": "stream",
     "text": [
      "Help on function simple in module __main__:\n",
      "\n",
      "simple(x)\n",
      "    Return x squared\n",
      "\n"
     ]
    }
   ],
   "source": [
    "help(simple)"
   ]
  },
  {
   "cell_type": "markdown",
   "metadata": {},
   "source": [
    "## Timing decorator"
   ]
  },
  {
   "cell_type": "code",
   "execution_count": 59,
   "metadata": {},
   "outputs": [],
   "source": [
    "def timing(f):\n",
    "    @functools.wraps(f)\n",
    "    def inner(*args, **kwargs):\n",
    "        start = time.perf_counter()\n",
    "        value = f(*args, **kwargs)\n",
    "        end = time.perf_counter()\n",
    "        print(f\"Running time for {f.__name__}: {end - start: .4f} seconds.\")\n",
    "        return value\n",
    "    return inner"
   ]
  },
  {
   "cell_type": "code",
   "execution_count": 74,
   "metadata": {},
   "outputs": [
    {
     "name": "stdout",
     "output_type": "stream",
     "text": [
      "Running time for waster:  0.0032 seconds.\n"
     ]
    }
   ],
   "source": [
    "@timing\n",
    "def waster(x):\n",
    "    res = []\n",
    "    for i in range(x):\n",
    "        res.append(i**2)\n",
    "    return res\n",
    "\n",
    "waster(10000);"
   ]
  },
  {
   "cell_type": "markdown",
   "metadata": {},
   "source": [
    "## Decorate a class"
   ]
  },
  {
   "cell_type": "code",
   "execution_count": 75,
   "metadata": {},
   "outputs": [
    {
     "name": "stdout",
     "output_type": "stream",
     "text": [
      "Running time for TimeWaster:  0.0019 seconds.\n"
     ]
    },
    {
     "data": {
      "text/plain": [
       "<__main__.TimeWaster at 0x25afd09bb50>"
      ]
     },
     "execution_count": 75,
     "metadata": {},
     "output_type": "execute_result"
    }
   ],
   "source": [
    "@timing\n",
    "class TimeWaster:\n",
    "    \n",
    "    def __init__(self, a):\n",
    "        self.a = a**10000\n",
    "        \n",
    "TimeWaster(1000000) # measure how much time to instantiate the class."
   ]
  },
  {
   "cell_type": "code",
   "execution_count": null,
   "metadata": {},
   "outputs": [],
   "source": []
  }
 ],
 "metadata": {
  "kernelspec": {
   "display_name": "Python 3",
   "language": "python",
   "name": "python3"
  },
  "language_info": {
   "codemirror_mode": {
    "name": "ipython",
    "version": 3
   },
   "file_extension": ".py",
   "mimetype": "text/x-python",
   "name": "python",
   "nbconvert_exporter": "python",
   "pygments_lexer": "ipython3",
   "version": "3.8.2"
  },
  "latex_envs": {
   "LaTeX_envs_menu_present": true,
   "autoclose": false,
   "autocomplete": true,
   "bibliofile": "biblio.bib",
   "cite_by": "apalike",
   "current_citInitial": 1,
   "eqLabelWithNumbers": true,
   "eqNumInitial": 1,
   "hotkeys": {
    "equation": "Ctrl-E",
    "itemize": "Ctrl-I"
   },
   "labels_anchors": false,
   "latex_user_defs": false,
   "report_style_numbering": false,
   "user_envs_cfg": false
  },
  "toc": {
   "base_numbering": 1,
   "nav_menu": {},
   "number_sections": true,
   "sideBar": true,
   "skip_h1_title": false,
   "title_cell": "Table of Contents",
   "title_sidebar": "Contents",
   "toc_cell": false,
   "toc_position": {},
   "toc_section_display": true,
   "toc_window_display": true
  }
 },
 "nbformat": 4,
 "nbformat_minor": 2
}
