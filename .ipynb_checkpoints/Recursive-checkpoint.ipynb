{
 "cells": [
  {
   "cell_type": "code",
   "execution_count": 1,
   "metadata": {},
   "outputs": [
    {
     "data": {
      "text/plain": [
       "120"
      ]
     },
     "execution_count": 1,
     "metadata": {},
     "output_type": "execute_result"
    }
   ],
   "source": [
    "# Factorial\n",
    "\n",
    "def factorial(n):\n",
    "    \n",
    "    if n in [0, 1]:\n",
    "        return 1\n",
    "    else:\n",
    "        return factorial(n-1) * n\n",
    "\n",
    "    \n",
    "\n",
    "factorial(5)"
   ]
  },
  {
   "cell_type": "code",
   "execution_count": 2,
   "metadata": {},
   "outputs": [
    {
     "name": "stdout",
     "output_type": "stream",
     "text": [
      "0 1 1 2 3 5 8 13 21 34 55 89 144 233 377 610 987 1597 2584 4181 "
     ]
    }
   ],
   "source": [
    "# Fibonacci\n",
    "\n",
    "def fibo(n):\n",
    "    \n",
    "    if n in [0, 1]:\n",
    "        return n \n",
    "    else:\n",
    "        return fibo(n-1) + fibo(n-2)\n",
    "    \n",
    "for _ in range(20):\n",
    "    print(fibo(_), end=' ')"
   ]
  },
  {
   "cell_type": "code",
   "execution_count": 3,
   "metadata": {},
   "outputs": [
    {
     "data": {
      "text/plain": [
       "21"
      ]
     },
     "execution_count": 3,
     "metadata": {},
     "output_type": "execute_result"
    }
   ],
   "source": [
    "# Sum of the elements of a list.\n",
    "\n",
    "def summation(list_):\n",
    "    \n",
    "    if len(list_) == 1:\n",
    "        return list_[0]\n",
    "    \n",
    "    else:\n",
    "        return summation(list_[1:]) + list_[0]\n",
    "    \n",
    "    \n",
    "arr = [1, 2, 3, 4, 11]\n",
    "summation(arr)"
   ]
  },
  {
   "cell_type": "code",
   "execution_count": null,
   "metadata": {},
   "outputs": [],
   "source": []
  }
 ],
 "metadata": {
  "kernelspec": {
   "display_name": "Python 3",
   "language": "python",
   "name": "python3"
  },
  "language_info": {
   "codemirror_mode": {
    "name": "ipython",
    "version": 3
   },
   "file_extension": ".py",
   "mimetype": "text/x-python",
   "name": "python",
   "nbconvert_exporter": "python",
   "pygments_lexer": "ipython3",
   "version": "3.8.2"
  }
 },
 "nbformat": 4,
 "nbformat_minor": 4
}
