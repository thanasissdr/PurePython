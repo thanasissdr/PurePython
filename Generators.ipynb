{
 "cells": [
  {
   "cell_type": "code",
   "execution_count": 1,
   "metadata": {},
   "outputs": [],
   "source": [
    "import math\n",
    "import numpy as np\n",
    "\n",
    "def isPrime(n):\n",
    "    \n",
    "    if n == 2:\n",
    "        return True\n",
    "    \n",
    "    if n % 2 == 0:\n",
    "        return False\n",
    "    \n",
    "    for i in np.arange(3, math.sqrt(n) + 1, 2):\n",
    "        if n % i == 0:\n",
    "            return False\n",
    "    \n",
    "    else:\n",
    "        return True\n",
    "\n",
    "    \n",
    "def nextPrime(n):\n",
    "    \n",
    "    n += 1\n",
    "    while True:\n",
    "        if isPrime(n):\n",
    "            yield n\n",
    "        n += 1"
   ]
  },
  {
   "cell_type": "code",
   "execution_count": 2,
   "metadata": {},
   "outputs": [
    {
     "name": "stdout",
     "output_type": "stream",
     "text": [
      "101\n",
      "103\n",
      "107\n",
      "109\n",
      "113\n",
      "127\n",
      "131\n",
      "137\n",
      "139\n",
      "149\n"
     ]
    }
   ],
   "source": [
    "a = nextPrime(100)\n",
    "\n",
    "for _ in range(10):\n",
    "    print(next(a))"
   ]
  },
  {
   "cell_type": "code",
   "execution_count": null,
   "metadata": {},
   "outputs": [],
   "source": []
  }
 ],
 "metadata": {
  "kernelspec": {
   "display_name": "Python 3",
   "language": "python",
   "name": "python3"
  },
  "language_info": {
   "codemirror_mode": {
    "name": "ipython",
    "version": 3
   },
   "file_extension": ".py",
   "mimetype": "text/x-python",
   "name": "python",
   "nbconvert_exporter": "python",
   "pygments_lexer": "ipython3",
   "version": "3.8.2"
  }
 },
 "nbformat": 4,
 "nbformat_minor": 4
}
