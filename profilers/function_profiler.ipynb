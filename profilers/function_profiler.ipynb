{
 "cells": [
  {
   "cell_type": "code",
   "execution_count": 1,
   "metadata": {},
   "outputs": [],
   "source": [
    "import functools\n",
    "import pprint as pp\n",
    "import shlex\n",
    "import os\n",
    "import inspect\n",
    "import ast\n",
    "from subprocess import run"
   ]
  },
  {
   "cell_type": "code",
   "execution_count": 2,
   "metadata": {},
   "outputs": [],
   "source": [
    "def timing(f):\n",
    "    import time\n",
    "    @functools.wraps(f)\n",
    "    def inner(*args, **kwargs):\n",
    "        start = time.perf_counter()\n",
    "        value = f(*args, **kwargs)\n",
    "        end = time.perf_counter()\n",
    "        print(f\"Finished {f.__name__} in {end - start:.4f} seconds.\")\n",
    "        return value\n",
    "    return inner"
   ]
  },
  {
   "cell_type": "code",
   "execution_count": 27,
   "metadata": {},
   "outputs": [],
   "source": [
    "def profiler_kind(kind):\n",
    "    @functools.wraps(kind)\n",
    "    def usage_profiler(import_classes=\"\"):\n",
    "        def wrapper(f):\n",
    "            def inner(*args, **kwargs):\n",
    "\n",
    "                def unwrap_source_code(g):\n",
    "                    sourcelines = inspect.getsourcelines(g)\n",
    "                    for idx, i in enumerate(sourcelines[0]):\n",
    "                        if i.startswith('def'):            \n",
    "                            return \"\".join(sourcelines[0][idx:])\n",
    "\n",
    "                # Writing f to a temporary file.\n",
    "\n",
    "                temp = './temp_profiling.py'\n",
    "                with open(temp, 'w+') as g:\n",
    "                    decorator = '@profile'\n",
    "                    value = f\"\"\"{import_classes}\\nimport ast\\nimport argparse\\nimport sys\\nimport json\\n\\n\\n{decorator}\\n{unwrap_source_code(f)}\"\"\"\n",
    "                    g.write(value)\n",
    "                    g.write('\\n')\n",
    "\n",
    "                    main_exec = f\"\"\"if __name__ == \"__main__\":     \n",
    "            parser = argparse.ArgumentParser()\n",
    "            parser.add_argument('-dummy_pos', nargs='*')\n",
    "            parser.add_argument('--dummy_optional', nargs=\"?\")    \n",
    "            args = parser.parse_args()\n",
    "\n",
    "            star_args = args.dummy_pos\n",
    "            optional_args = args.dummy_optional\n",
    "\n",
    "            if optional_args:\n",
    "                optional_args = optional_args.replace(\"\\'\", '\"')\n",
    "                optional_args = json.loads(json.loads(json.dumps(optional_args)))\n",
    "            else:\n",
    "                optional_args = {{}} \n",
    "\n",
    "            dummy_args = []\n",
    "            for arg in star_args:\n",
    "                if arg.isnumeric():\n",
    "                    dummy_args.append(ast.literal_eval(arg))\n",
    "                else:\n",
    "                    dummy_args.append(arg)\n",
    "\n",
    "\n",
    "            {f.__name__}(*dummy_args, **optional_args)\n",
    "                            \"\"\"\n",
    "                    g.write(main_exec)\n",
    "\n",
    "                cmd = f'{kind()} {temp}'\n",
    "                if args:\n",
    "                    args_split = [f'\"{str(i)}\"' for i in args]\n",
    "                    second_split =  \"-dummy_pos\" + \" \" + \" \".join(args_split)\n",
    "\n",
    "                    cmd = cmd + \" \" + second_split\n",
    "\n",
    "                if kwargs:\n",
    "                    cmd = cmd + \" \" + '--dummy_optional' + \" \" + \" \".join([f'\"{ {k : str(v) for k, v in kwargs.items()} }\"'])\n",
    "\n",
    "                print(cmd)\n",
    "                stats = run(cmd, capture_output=True).stdout.decode('utf-8')\n",
    "\n",
    "\n",
    "                # TODO: We might want to have also \n",
    "                # a `debug` argument, where we don't delete\n",
    "                # the temporary file.\n",
    "\n",
    "               \n",
    "                print(stats)\n",
    "                os.remove(temp)\n",
    "               \n",
    "                if usage_profiler.__name__ == 'cpu_profiler':\n",
    "                    os.remove(temp + '.lprof')\n",
    "\n",
    "                return f(*args, **kwargs)\n",
    "            return inner\n",
    "        return wrapper\n",
    "    return usage_profiler\n",
    "\n",
    "\n",
    "@profiler_kind\n",
    "def ram_profiler():\n",
    "    return 'python -m memory_profiler'\n",
    "\n",
    "\n",
    "@profiler_kind\n",
    "def cpu_profiler():\n",
    "    return 'kernprof -lv'"
   ]
  },
  {
   "cell_type": "code",
   "execution_count": 30,
   "metadata": {},
   "outputs": [
    {
     "name": "stdout",
     "output_type": "stream",
     "text": [
      "python -m memory_profiler ./temp_profiling.py -dummy_pos \"2\" \"3\"\n",
      "Filename: ./temp_profiling.py\n",
      "\n",
      "Line #    Mem usage    Increment   Line Contents\n",
      "================================================\n",
      "     8   40.254 MiB   40.254 MiB   @profile\n",
      "     9                             def my_func(x, y):\n",
      "    10   40.254 MiB    0.000 MiB       a = [1] * (10 ** x)\n",
      "    11   40.254 MiB    0.000 MiB       b = [2] * (1 * 10 ** y)\n",
      "    12   40.254 MiB    0.000 MiB       c = a + b\n",
      "    13   40.254 MiB    0.000 MiB       del c\n",
      "    14   40.254 MiB    0.000 MiB       return a\n",
      "\n",
      "\n",
      "\n"
     ]
    }
   ],
   "source": [
    "@ram_profiler()\n",
    "def my_func(x, y):\n",
    "    a = [1] * (10 ** x)\n",
    "    b = [2] * (1 * 10 ** y)\n",
    "    c = a + b\n",
    "    del c\n",
    "    return a\n",
    "\n",
    "\n",
    "\n",
    "my_func(2, 3);"
   ]
  },
  {
   "cell_type": "code",
   "execution_count": 31,
   "metadata": {},
   "outputs": [
    {
     "name": "stdout",
     "output_type": "stream",
     "text": [
      "kernprof -lv ./temp_profiling.py -dummy_pos \"Thanos\" \"3\"\n",
      "ThanosThanos\n",
      "9\n",
      "Wrote profile results to temp_profiling.py.lprof\n",
      "Timer unit: 1e-07 s\n",
      "\n",
      "Total time: 9.3e-06 s\n",
      "File: ./temp_profiling.py\n",
      "Function: custom_string_function at line 8\n",
      "\n",
      "Line #      Hits         Time  Per Hit   % Time  Line Contents\n",
      "==============================================================\n",
      "     8                                           @profile\n",
      "     9                                           def custom_string_function(x, y):\n",
      "    10         1         70.0     70.0     75.3      print (x * 2)\n",
      "    11         1         20.0     20.0     21.5      print( y * 3)\n",
      "    12         1          3.0      3.0      3.2      return None\n",
      "\n",
      "\n",
      "ThanosThanos\n",
      "9\n"
     ]
    }
   ],
   "source": [
    "@cpu_profiler()\n",
    "def custom_string_function(x, y):\n",
    "    print (x * 2)\n",
    "    print( y * 3)\n",
    "    return None\n",
    "\n",
    "custom_string_function('Thanos', 3)"
   ]
  },
  {
   "cell_type": "code",
   "execution_count": 6,
   "metadata": {},
   "outputs": [
    {
     "name": "stdout",
     "output_type": "stream",
     "text": [
      "kernprof -lv ./temp_profiling.py -dummy_pos \"1\" \"2\"\n",
      "Wrote profile results to temp_profiling.py.lprof\n",
      "Timer unit: 1e-07 s\n",
      "\n",
      "Total time: 7.8e-06 s\n",
      "File: ./temp_profiling.py\n",
      "Function: test_class_function at line 8\n",
      "\n",
      "Line #      Hits         Time  Per Hit   % Time  Line Contents\n",
      "==============================================================\n",
      "     8                                           @profile\n",
      "     9                                           def test_class_function(a, b):\n",
      "    10         1         42.0     42.0     53.8      obj = Thanos(a)\n",
      "    11         1         24.0     24.0     30.8      res = obj.custom_function(b - 1)\n",
      "    12         1         10.0     10.0     12.8      c = [2] * 10**b\n",
      "    13         1          2.0      2.0      2.6      return res\n",
      "\n",
      "\n"
     ]
    }
   ],
   "source": [
    "from custom_classes import Thanos\n",
    "\n",
    "@cpu_profiler(\"from custom_classes import Thanos\")\n",
    "def test_class_function(a, b):\n",
    "    obj = Thanos(a)\n",
    "    res = obj.custom_function(b - 1)\n",
    "    c = [2] * 10**b\n",
    "    return res\n",
    "\n",
    "test_class_function(1, 2);"
   ]
  },
  {
   "cell_type": "markdown",
   "metadata": {},
   "source": [
    "#  CPU profiler\n",
    "\n",
    "The following lines could be used only for CPU profiling without writing to an external file, but a similar appraoch **cannot** be used for memory profiling"
   ]
  },
  {
   "cell_type": "code",
   "execution_count": 32,
   "metadata": {},
   "outputs": [],
   "source": [
    "from decorator import decorator\n",
    "from line_profiler import LineProfiler\n",
    "\n",
    "@decorator\n",
    "def profile_each_line(func, *args, **kwargs):\n",
    "    profiler = LineProfiler()\n",
    "    profiled_func = profiler(func)\n",
    "    try:\n",
    "        profiled_func(*args, **kwargs)\n",
    "    finally:\n",
    "        profiler.print_stats()"
   ]
  },
  {
   "cell_type": "code",
   "execution_count": 33,
   "metadata": {},
   "outputs": [],
   "source": [
    "@profile_each_line\n",
    "def test_class_function(a, b):\n",
    "    obj = Thanos(a)\n",
    "    res = obj.custom_function(b - 1)\n",
    "    c = [2] * 10**b\n",
    "    return res"
   ]
  },
  {
   "cell_type": "code",
   "execution_count": 34,
   "metadata": {},
   "outputs": [
    {
     "name": "stdout",
     "output_type": "stream",
     "text": [
      "Timer unit: 1e-07 s\n",
      "\n",
      "Total time: 1.02e-05 s\n",
      "File: <ipython-input-33-c3d7b76f3ec2>\n",
      "Function: test_class_function at line 1\n",
      "\n",
      "Line #      Hits         Time  Per Hit   % Time  Line Contents\n",
      "==============================================================\n",
      "     1                                           @profile_each_line\n",
      "     2                                           def test_class_function(a, b):\n",
      "     3         1         46.0     46.0     45.1      obj = Thanos(a)\n",
      "     4         1         36.0     36.0     35.3      res = obj.custom_function(b - 1)\n",
      "     5         1         16.0     16.0     15.7      c = [2] * 10**b\n",
      "     6         1          4.0      4.0      3.9      return res\n",
      "\n"
     ]
    }
   ],
   "source": [
    "test_class_function(1, 2)"
   ]
  }
 ],
 "metadata": {
  "kernelspec": {
   "display_name": "Python 3",
   "language": "python",
   "name": "python3"
  },
  "language_info": {
   "codemirror_mode": {
    "name": "ipython",
    "version": 3
   },
   "file_extension": ".py",
   "mimetype": "text/x-python",
   "name": "python",
   "nbconvert_exporter": "python",
   "pygments_lexer": "ipython3",
   "version": "3.8.2"
  },
  "latex_envs": {
   "LaTeX_envs_menu_present": true,
   "autoclose": false,
   "autocomplete": true,
   "bibliofile": "biblio.bib",
   "cite_by": "apalike",
   "current_citInitial": 1,
   "eqLabelWithNumbers": true,
   "eqNumInitial": 1,
   "hotkeys": {
    "equation": "Ctrl-E",
    "itemize": "Ctrl-I"
   },
   "labels_anchors": false,
   "latex_user_defs": false,
   "report_style_numbering": false,
   "user_envs_cfg": false
  },
  "toc": {
   "base_numbering": 1,
   "nav_menu": {},
   "number_sections": true,
   "sideBar": true,
   "skip_h1_title": false,
   "title_cell": "Table of Contents",
   "title_sidebar": "Contents",
   "toc_cell": false,
   "toc_position": {},
   "toc_section_display": true,
   "toc_window_display": false
  }
 },
 "nbformat": 4,
 "nbformat_minor": 4
}
