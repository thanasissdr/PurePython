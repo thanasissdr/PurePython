{
 "cells": [
  {
   "cell_type": "code",
   "execution_count": 1,
   "metadata": {},
   "outputs": [],
   "source": [
    "import functools\n",
    "import pprint as pp\n",
    "import shlex\n",
    "import os\n",
    "import inspect\n",
    "import ast\n",
    "from subprocess import run"
   ]
  },
  {
   "cell_type": "code",
   "execution_count": 2,
   "metadata": {},
   "outputs": [],
   "source": [
    "def memory_profile(import_classes=\"\"):\n",
    "    def wrapper(f):\n",
    "        def inner(*args, **kwargs):\n",
    "\n",
    "            def unwrap_source_code(g):\n",
    "                sourcelines = inspect.getsourcelines(g)\n",
    "                for idx, i in enumerate(sourcelines[0]):\n",
    "                    if i.startswith('def'):            \n",
    "                        return \"\".join(sourcelines[0][idx:])\n",
    "            \n",
    "            # Writing the f to a temporary file.\n",
    "            \n",
    "            temp = './temp_ram.py'\n",
    "            with open(temp, 'w+') as g:\n",
    "                decorator = '@profile'\n",
    "                value = f\"\"\"{import_classes}\\nfrom memory_profiler import profile\\nimport ast\\nimport argparse\\nimport sys\\nimport json\\n\\n\\n{decorator}\\n{unwrap_source_code(f)}\"\"\"\n",
    "                g.write(value)\n",
    "                g.write('\\n')\n",
    "\n",
    "                main_exec = f\"\"\"if __name__ == \"__main__\":     \n",
    "        parser = argparse.ArgumentParser()\n",
    "        parser.add_argument('-dummy_pos', nargs='*')\n",
    "        parser.add_argument('--dummy_optional', nargs=\"?\")    \n",
    "        args = parser.parse_args()\n",
    "\n",
    "        star_args = args.dummy_pos\n",
    "        optional_args = args.dummy_optional\n",
    "\n",
    "        if optional_args:\n",
    "            optional_args = optional_args.replace(\"\\'\", '\"')\n",
    "            optional_args = json.loads(json.loads(json.dumps(optional_args)))\n",
    "        else:\n",
    "            optional_args = {{}} \n",
    "\n",
    "        dummy_args = []\n",
    "        for arg in star_args:\n",
    "            if arg.isnumeric():\n",
    "                dummy_args.append(ast.literal_eval(arg))\n",
    "            else:\n",
    "                dummy_args.append(arg)\n",
    "\n",
    "\n",
    "        {f.__name__}(*dummy_args, **optional_args)\n",
    "                        \"\"\"\n",
    "                g.write(main_exec)\n",
    "\n",
    "            cmd = f'python -m memory_profiler {temp}'\n",
    "            if args:\n",
    "                args_split = [f'\"{str(i)}\"' for i in args]\n",
    "                second_split =  \"-dummy_pos\" + \" \" + \" \".join(args_split)\n",
    "\n",
    "                cmd = cmd + \" \" + second_split\n",
    "\n",
    "            if kwargs:\n",
    "                cmd = cmd + \" \" + '--dummy_optional' + \" \" + \" \".join([f'\"{ {k : str(v) for k, v in kwargs.items()} }\"'])\n",
    "\n",
    "            print(cmd)\n",
    "            mem_stats = run(cmd, capture_output=True).stdout.decode('utf-8')\n",
    "\n",
    "\n",
    "            # TODO: We might want to have also \n",
    "            # a `debug` argument, where we don't delete\n",
    "            # the temporary file.\n",
    "\n",
    "            #os.remove(temp)\n",
    "            print(mem_stats)\n",
    "            \n",
    "            # TODO: f(*args, **kwargs) does not work when we import packages\n",
    "            # from other modules & needs to be fixed\n",
    "            \n",
    "            return f(*args, **kwargs)\n",
    "        return inner\n",
    "    return wrapper\n",
    "\n",
    "    \n",
    "    \n",
    "def timing(f):\n",
    "    import time\n",
    "    @functools.wraps(f)\n",
    "    def inner(*args, **kwargs):\n",
    "        start = time.perf_counter()\n",
    "        value = f(*args, **kwargs)\n",
    "        end = time.perf_counter()\n",
    "        print(f\"Finished {f.__name__} in {end - start:.4f} seconds.\")\n",
    "        return value\n",
    "    return inner\n",
    "\n",
    "\n",
    "    \n"
   ]
  },
  {
   "cell_type": "code",
   "execution_count": 3,
   "metadata": {},
   "outputs": [
    {
     "name": "stdout",
     "output_type": "stream",
     "text": [
      "python -m memory_profiler ./temp_ram.py -dummy_pos \"2\" \"3\"\n",
      "Filename: ./temp_ram.py\n",
      "\n",
      "Line #    Mem usage    Increment   Line Contents\n",
      "================================================\n",
      "     9     40.3 MiB     40.3 MiB   @profile\n",
      "    10                             def my_func(x, y):\n",
      "    11     40.3 MiB      0.0 MiB       a = [1] * (10 ** x)\n",
      "    12     40.3 MiB      0.0 MiB       b = [2] * (1 * 10 ** y)\n",
      "    13     40.3 MiB      0.0 MiB       c = a + b\n",
      "    14     40.3 MiB      0.0 MiB       del c\n",
      "    15     40.3 MiB      0.0 MiB       return a\n",
      "\n",
      "\n",
      "\n"
     ]
    }
   ],
   "source": [
    "@memory_profile()\n",
    "def my_func(x, y):\n",
    "    a = [1] * (10 ** x)\n",
    "    b = [2] * (1 * 10 ** y)\n",
    "    c = a + b\n",
    "    del c\n",
    "    return a\n",
    "\n",
    "\n",
    "\n",
    "my_func(2, 3);"
   ]
  },
  {
   "cell_type": "code",
   "execution_count": 4,
   "metadata": {},
   "outputs": [],
   "source": [
    "@memory_profile()\n",
    "def custom_string_function(x, y):\n",
    "    print (x * 2)\n",
    "    print( y * 3)\n",
    "    return None"
   ]
  },
  {
   "cell_type": "code",
   "execution_count": 5,
   "metadata": {},
   "outputs": [
    {
     "name": "stdout",
     "output_type": "stream",
     "text": [
      "python -m memory_profiler ./temp_ram.py -dummy_pos \"Thanos\" \"3\"\n",
      "ThanosThanos\n",
      "9\n",
      "Filename: ./temp_ram.py\n",
      "\n",
      "Line #    Mem usage    Increment   Line Contents\n",
      "================================================\n",
      "     9     40.3 MiB     40.3 MiB   @profile\n",
      "    10                             def custom_string_function(x, y):\n",
      "    11     40.3 MiB      0.0 MiB       print (x * 2)\n",
      "    12     40.3 MiB      0.0 MiB       print( y * 3)\n",
      "    13     40.3 MiB      0.0 MiB       return None\n",
      "\n",
      "\n",
      "\n",
      "ThanosThanos\n",
      "9\n"
     ]
    }
   ],
   "source": [
    "custom_string_function('Thanos', 3)"
   ]
  },
  {
   "cell_type": "code",
   "execution_count": 10,
   "metadata": {},
   "outputs": [
    {
     "name": "stdout",
     "output_type": "stream",
     "text": [
      "python -m memory_profiler ./temp_ram.py -dummy_pos \"2\" \"7\"\n",
      "Filename: ./temp_ram.py\n",
      "\n",
      "Line #    Mem usage    Increment   Line Contents\n",
      "================================================\n",
      "     9     40.3 MiB     40.3 MiB   @profile\n",
      "    10                             def test_class_function(a, b):\n",
      "    11     40.3 MiB      0.0 MiB       obj = Thanos(a)\n",
      "    12     48.0 MiB      7.6 MiB       res = obj.custom_function(b - 1)\n",
      "    13    124.3 MiB     76.3 MiB       c = [2] * 10**b\n",
      "    14    124.3 MiB      0.0 MiB       return res\n",
      "\n",
      "\n",
      "\n"
     ]
    }
   ],
   "source": [
    "from custom_classes import Thanos\n",
    "\n",
    "@memory_profile(\"from custom_classes import Thanos\")\n",
    "def test_class_function(a, b):\n",
    "    obj = Thanos(a)\n",
    "    res = obj.custom_function(b - 1)\n",
    "    c = [2] * 10**b\n",
    "    return res\n",
    "\n",
    "test_class_function(2, 7);"
   ]
  },
  {
   "cell_type": "markdown",
   "metadata": {},
   "source": [
    "# External profiler"
   ]
  },
  {
   "cell_type": "code",
   "execution_count": null,
   "metadata": {},
   "outputs": [],
   "source": []
  }
 ],
 "metadata": {
  "kernelspec": {
   "display_name": "Python 3",
   "language": "python",
   "name": "python3"
  },
  "language_info": {
   "codemirror_mode": {
    "name": "ipython",
    "version": 3
   },
   "file_extension": ".py",
   "mimetype": "text/x-python",
   "name": "python",
   "nbconvert_exporter": "python",
   "pygments_lexer": "ipython3",
   "version": "3.8.2"
  },
  "latex_envs": {
   "LaTeX_envs_menu_present": true,
   "autoclose": false,
   "autocomplete": true,
   "bibliofile": "biblio.bib",
   "cite_by": "apalike",
   "current_citInitial": 1,
   "eqLabelWithNumbers": true,
   "eqNumInitial": 1,
   "hotkeys": {
    "equation": "Ctrl-E",
    "itemize": "Ctrl-I"
   },
   "labels_anchors": false,
   "latex_user_defs": false,
   "report_style_numbering": false,
   "user_envs_cfg": false
  },
  "toc": {
   "base_numbering": 1,
   "nav_menu": {},
   "number_sections": true,
   "sideBar": true,
   "skip_h1_title": false,
   "title_cell": "Table of Contents",
   "title_sidebar": "Contents",
   "toc_cell": false,
   "toc_position": {},
   "toc_section_display": true,
   "toc_window_display": false
  }
 },
 "nbformat": 4,
 "nbformat_minor": 4
}
